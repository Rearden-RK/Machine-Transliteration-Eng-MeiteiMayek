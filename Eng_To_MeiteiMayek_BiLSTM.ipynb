{
  "nbformat": 4,
  "nbformat_minor": 0,
  "metadata": {
    "colab": {
      "provenance": [],
      "gpuType": "T4"
    },
    "kernelspec": {
      "name": "python3",
      "display_name": "Python 3"
    },
    "language_info": {
      "name": "python"
    },
    "accelerator": "GPU"
  },
  "cells": [
    {
      "cell_type": "markdown",
      "source": [
        "##Imports"
      ],
      "metadata": {
        "id": "jE24retL61QJ"
      }
    },
    {
      "cell_type": "code",
      "execution_count": null,
      "metadata": {
        "id": "YhBWAzii6c7n"
      },
      "outputs": [],
      "source": [
        "import tensorflow as tf\n",
        "from tensorflow import keras\n",
        "import pandas as pd\n",
        "import numpy as np\n",
        "from keras.preprocessing.text import Tokenizer\n",
        "from keras.preprocessing.sequence import pad_sequences\n",
        "from keras.layers import Embedding, Bidirectional, LSTM, Concatenate, Attention, Dense, Input\n",
        "from keras.utils import plot_model\n",
        "from tqdm import tqdm"
      ]
    },
    {
      "cell_type": "markdown",
      "source": [
        "# Data"
      ],
      "metadata": {
        "id": "NjYuZGj_69h7"
      }
    },
    {
      "cell_type": "code",
      "source": [
        "from google.colab import drive\n",
        "drive.mount('/content/drive')"
      ],
      "metadata": {
        "colab": {
          "base_uri": "https://localhost:8080/"
        },
        "id": "QVMgpqf9NBKy",
        "outputId": "ff6498a2-2752-4ff6-f6cf-2c86ff1c39c1"
      },
      "execution_count": null,
      "outputs": [
        {
          "output_type": "stream",
          "name": "stdout",
          "text": [
            "Mounted at /content/drive\n"
          ]
        }
      ]
    },
    {
      "cell_type": "code",
      "source": [
        "train_data = pd.read_json(\"/content/drive/MyDrive/Meitei_Mayek/mni_train.json\", lines = True)\n",
        "test_data = pd.read_json(\"/content/drive/MyDrive/Meitei_Mayek/mni_test.json\", lines = True)\n",
        "valid_data = pd.read_json(\"/content/drive/MyDrive/Meitei_Mayek/mni_valid.json\", lines = True)\n",
        "train_data,test_data,valid_data"
      ],
      "metadata": {
        "colab": {
          "base_uri": "https://localhost:8080/"
        },
        "id": "g28s88RN6zCH",
        "outputId": "49585b48-0141-478d-ea39-61802c95895d"
      },
      "execution_count": null,
      "outputs": [
        {
          "output_type": "execute_result",
          "data": {
            "text/plain": [
              "(      unique_identifier  native word      english word     source     score\n",
              " 0                  mni1         ꯂꯨꯗꯨ              ludu    AK-Freq       NaN\n",
              " 1                  mni2        ꯑꯣꯛꯁꯥ             oksha    AK-Freq       NaN\n",
              " 2                  mni3        ꯊꯝꯕꯥꯜ           thambal    AK-Freq       NaN\n",
              " 3                  mni4  ꯂꯦꯡꯊꯩꯅꯕꯁꯤꯗꯤ  lengtheinabasidi    AK-Freq       NaN\n",
              " 4                  mni5     ꯑꯦꯄ꯭ꯂꯥꯢꯗ           applied    AK-Freq       NaN\n",
              " ...                 ...          ...               ...        ...       ...\n",
              " 10055          mni10056        ꯄꯥꯡꯒꯂ          panggala  IndicCorp -0.174713\n",
              " 10056          mni10057    ꯈꯣꯔꯤꯔꯣꯂꯒꯤ       khorirolagi  IndicCorp -0.160257\n",
              " 10057          mni10058       ꯃꯁꯤꯡꯈꯥ        masingkhaa  IndicCorp -0.089934\n",
              " 10058          mni10059        ꯄꯣꯛꯄꯥ            pokpaa  IndicCorp -0.174966\n",
              " 10059          mni10060     ꯁꯅꯥꯖꯥꯎꯕꯅ       sanajaobana  IndicCorp -0.303592\n",
              " \n",
              " [10060 rows x 5 columns],\n",
              "      unique_identifier   native word  english word   source\n",
              " 0                 mni1         ꯌꯥꯜꯂꯒ       yallaga  AK-Freq\n",
              " 1                 mni2       ꯁꯔꯨꯛꯁꯤꯡ    sharuksing  AK-Freq\n",
              " 2                 mni3           ꯁꯛꯄ         sakpa  AK-Freq\n",
              " 3                 mni4         ꯑꯁꯤꯅꯤ         asini  AK-Freq\n",
              " 4                 mni5         ꯖꯦꯕꯤꯅ        jebina  AK-Freq\n",
              " ...                ...           ...           ...      ...\n",
              " 4884           mni4885  ꯏꯟꯁꯦꯛꯇꯤꯁꯥꯢꯗꯁ  insecticides   AK-NEI\n",
              " 4885           mni4886         ꯔꯥꯖꯦꯁ        rajesh   AK-NEI\n",
              " 4886           mni4887         ꯈꯇ꯭ꯔꯤ        khatri   AK-NEI\n",
              " 4887           mni4888        ꯖꯣꯍꯥꯔꯤ        johari   AK-NEI\n",
              " 4888           mni4889        ꯖꯨꯅꯥꯒꯔ      junagadh   AK-NEI\n",
              " \n",
              " [4889 rows x 4 columns],\n",
              "      unique_identifier native word english word     source     score\n",
              " 0                 mni1        ꯁꯦꯝꯏ         semi    AK-Freq       NaN\n",
              " 1                 mni2   ꯂꯥꯢꯅꯤꯡꯒꯤꯅ  laininggina    AK-Freq       NaN\n",
              " 2                 mni3    ꯌꯥꯟꯁꯤꯟꯅꯕ  yaansinnaba    AK-Freq       NaN\n",
              " 3                 mni4         ꯎꯔꯥ          ura    AK-Freq       NaN\n",
              " 4                 mni5       ꯏꯅꯥꯠꯀ      enaatka    AK-Freq       NaN\n",
              " ...                ...         ...          ...        ...       ...\n",
              " 3255           mni3256     ꯋꯥꯈꯜꯂꯣꯟ   waakhallon  IndicCorp -0.034958\n",
              " 3256           mni3257        ꯉꯥꯛꯄ      ngaakpa  IndicCorp -0.044741\n",
              " 3257           mni3258        ꯑꯣꯁꯇ         osta  IndicCorp -0.270972\n",
              " 3258           mni3259     ꯊꯣꯛꯈꯤꯕꯒ  thokkhibaga  IndicCorp -0.002507\n",
              " 3259           mni3260       ꯂꯤꯁꯤꯄ       lisipa  IndicCorp -0.126033\n",
              " \n",
              " [3260 rows x 5 columns])"
            ]
          },
          "metadata": {},
          "execution_count": 3
        }
      ]
    },
    {
      "cell_type": "code",
      "source": [
        "train = train_data[[\"native word\",\"english word\"]].copy()\n",
        "test = test_data[[\"native word\", \"english word\"]].copy()\n",
        "valid = valid_data[[\"native word\", \"english word\"]].copy()\n",
        "train, test, valid"
      ],
      "metadata": {
        "colab": {
          "base_uri": "https://localhost:8080/"
        },
        "id": "w8bJABiN75tP",
        "outputId": "977ea749-1df5-44d0-be2d-4540035ae74b"
      },
      "execution_count": null,
      "outputs": [
        {
          "output_type": "execute_result",
          "data": {
            "text/plain": [
              "(       native word      english word\n",
              " 0             ꯂꯨꯗꯨ              ludu\n",
              " 1            ꯑꯣꯛꯁꯥ             oksha\n",
              " 2            ꯊꯝꯕꯥꯜ           thambal\n",
              " 3      ꯂꯦꯡꯊꯩꯅꯕꯁꯤꯗꯤ  lengtheinabasidi\n",
              " 4         ꯑꯦꯄ꯭ꯂꯥꯢꯗ           applied\n",
              " ...            ...               ...\n",
              " 10055        ꯄꯥꯡꯒꯂ          panggala\n",
              " 10056    ꯈꯣꯔꯤꯔꯣꯂꯒꯤ       khorirolagi\n",
              " 10057       ꯃꯁꯤꯡꯈꯥ        masingkhaa\n",
              " 10058        ꯄꯣꯛꯄꯥ            pokpaa\n",
              " 10059     ꯁꯅꯥꯖꯥꯎꯕꯅ       sanajaobana\n",
              " \n",
              " [10060 rows x 2 columns],\n",
              "        native word  english word\n",
              " 0            ꯌꯥꯜꯂꯒ       yallaga\n",
              " 1          ꯁꯔꯨꯛꯁꯤꯡ    sharuksing\n",
              " 2              ꯁꯛꯄ         sakpa\n",
              " 3            ꯑꯁꯤꯅꯤ         asini\n",
              " 4            ꯖꯦꯕꯤꯅ        jebina\n",
              " ...            ...           ...\n",
              " 4884  ꯏꯟꯁꯦꯛꯇꯤꯁꯥꯢꯗꯁ  insecticides\n",
              " 4885         ꯔꯥꯖꯦꯁ        rajesh\n",
              " 4886         ꯈꯇ꯭ꯔꯤ        khatri\n",
              " 4887        ꯖꯣꯍꯥꯔꯤ        johari\n",
              " 4888        ꯖꯨꯅꯥꯒꯔ      junagadh\n",
              " \n",
              " [4889 rows x 2 columns],\n",
              "      native word english word\n",
              " 0           ꯁꯦꯝꯏ         semi\n",
              " 1      ꯂꯥꯢꯅꯤꯡꯒꯤꯅ  laininggina\n",
              " 2       ꯌꯥꯟꯁꯤꯟꯅꯕ  yaansinnaba\n",
              " 3            ꯎꯔꯥ          ura\n",
              " 4          ꯏꯅꯥꯠꯀ      enaatka\n",
              " ...          ...          ...\n",
              " 3255     ꯋꯥꯈꯜꯂꯣꯟ   waakhallon\n",
              " 3256        ꯉꯥꯛꯄ      ngaakpa\n",
              " 3257        ꯑꯣꯁꯇ         osta\n",
              " 3258     ꯊꯣꯛꯈꯤꯕꯒ  thokkhibaga\n",
              " 3259       ꯂꯤꯁꯤꯄ       lisipa\n",
              " \n",
              " [3260 rows x 2 columns])"
            ]
          },
          "metadata": {},
          "execution_count": 4
        }
      ]
    },
    {
      "cell_type": "markdown",
      "source": [
        "#Preprocessing"
      ],
      "metadata": {
        "id": "vHqR5Bt95hEF"
      }
    },
    {
      "cell_type": "code",
      "source": [
        "def add_start_and_end(text):\n",
        "  text = \"\\t\" + text + \"\\n\"\n",
        "  return text"
      ],
      "metadata": {
        "id": "7TQzWvVX_cSJ"
      },
      "execution_count": null,
      "outputs": []
    },
    {
      "cell_type": "code",
      "source": [
        "train[\"decoder input\"] = train[\"native word\"].apply(add_start_and_end)\n",
        "train"
      ],
      "metadata": {
        "colab": {
          "base_uri": "https://localhost:8080/",
          "height": 479
        },
        "id": "u-gf6bnk9QBF",
        "outputId": "acf4499a-276e-49c9-d4dc-a8a6af6d9769"
      },
      "execution_count": null,
      "outputs": [
        {
          "output_type": "execute_result",
          "data": {
            "text/plain": [
              "       native word      english word    decoder input\n",
              "0             ꯂꯨꯗꯨ              ludu         \\tꯂꯨꯗꯨ\\n\n",
              "1            ꯑꯣꯛꯁꯥ             oksha        \\tꯑꯣꯛꯁꯥ\\n\n",
              "2            ꯊꯝꯕꯥꯜ           thambal        \\tꯊꯝꯕꯥꯜ\\n\n",
              "3      ꯂꯦꯡꯊꯩꯅꯕꯁꯤꯗꯤ  lengtheinabasidi  \\tꯂꯦꯡꯊꯩꯅꯕꯁꯤꯗꯤ\\n\n",
              "4         ꯑꯦꯄ꯭ꯂꯥꯢꯗ           applied     \\tꯑꯦꯄ꯭ꯂꯥꯢꯗ\\n\n",
              "...            ...               ...              ...\n",
              "10055        ꯄꯥꯡꯒꯂ          panggala        \\tꯄꯥꯡꯒꯂ\\n\n",
              "10056    ꯈꯣꯔꯤꯔꯣꯂꯒꯤ       khorirolagi    \\tꯈꯣꯔꯤꯔꯣꯂꯒꯤ\\n\n",
              "10057       ꯃꯁꯤꯡꯈꯥ        masingkhaa       \\tꯃꯁꯤꯡꯈꯥ\\n\n",
              "10058        ꯄꯣꯛꯄꯥ            pokpaa        \\tꯄꯣꯛꯄꯥ\\n\n",
              "10059     ꯁꯅꯥꯖꯥꯎꯕꯅ       sanajaobana     \\tꯁꯅꯥꯖꯥꯎꯕꯅ\\n\n",
              "\n",
              "[10060 rows x 3 columns]"
            ],
            "text/html": [
              "\n",
              "  <div id=\"df-b337fc94-ba2c-4297-823f-cb286f7697e2\" class=\"colab-df-container\">\n",
              "    <div>\n",
              "<style scoped>\n",
              "    .dataframe tbody tr th:only-of-type {\n",
              "        vertical-align: middle;\n",
              "    }\n",
              "\n",
              "    .dataframe tbody tr th {\n",
              "        vertical-align: top;\n",
              "    }\n",
              "\n",
              "    .dataframe thead th {\n",
              "        text-align: right;\n",
              "    }\n",
              "</style>\n",
              "<table border=\"1\" class=\"dataframe\">\n",
              "  <thead>\n",
              "    <tr style=\"text-align: right;\">\n",
              "      <th></th>\n",
              "      <th>native word</th>\n",
              "      <th>english word</th>\n",
              "      <th>decoder input</th>\n",
              "    </tr>\n",
              "  </thead>\n",
              "  <tbody>\n",
              "    <tr>\n",
              "      <th>0</th>\n",
              "      <td>ꯂꯨꯗꯨ</td>\n",
              "      <td>ludu</td>\n",
              "      <td>\\tꯂꯨꯗꯨ\\n</td>\n",
              "    </tr>\n",
              "    <tr>\n",
              "      <th>1</th>\n",
              "      <td>ꯑꯣꯛꯁꯥ</td>\n",
              "      <td>oksha</td>\n",
              "      <td>\\tꯑꯣꯛꯁꯥ\\n</td>\n",
              "    </tr>\n",
              "    <tr>\n",
              "      <th>2</th>\n",
              "      <td>ꯊꯝꯕꯥꯜ</td>\n",
              "      <td>thambal</td>\n",
              "      <td>\\tꯊꯝꯕꯥꯜ\\n</td>\n",
              "    </tr>\n",
              "    <tr>\n",
              "      <th>3</th>\n",
              "      <td>ꯂꯦꯡꯊꯩꯅꯕꯁꯤꯗꯤ</td>\n",
              "      <td>lengtheinabasidi</td>\n",
              "      <td>\\tꯂꯦꯡꯊꯩꯅꯕꯁꯤꯗꯤ\\n</td>\n",
              "    </tr>\n",
              "    <tr>\n",
              "      <th>4</th>\n",
              "      <td>ꯑꯦꯄ꯭ꯂꯥꯢꯗ</td>\n",
              "      <td>applied</td>\n",
              "      <td>\\tꯑꯦꯄ꯭ꯂꯥꯢꯗ\\n</td>\n",
              "    </tr>\n",
              "    <tr>\n",
              "      <th>...</th>\n",
              "      <td>...</td>\n",
              "      <td>...</td>\n",
              "      <td>...</td>\n",
              "    </tr>\n",
              "    <tr>\n",
              "      <th>10055</th>\n",
              "      <td>ꯄꯥꯡꯒꯂ</td>\n",
              "      <td>panggala</td>\n",
              "      <td>\\tꯄꯥꯡꯒꯂ\\n</td>\n",
              "    </tr>\n",
              "    <tr>\n",
              "      <th>10056</th>\n",
              "      <td>ꯈꯣꯔꯤꯔꯣꯂꯒꯤ</td>\n",
              "      <td>khorirolagi</td>\n",
              "      <td>\\tꯈꯣꯔꯤꯔꯣꯂꯒꯤ\\n</td>\n",
              "    </tr>\n",
              "    <tr>\n",
              "      <th>10057</th>\n",
              "      <td>ꯃꯁꯤꯡꯈꯥ</td>\n",
              "      <td>masingkhaa</td>\n",
              "      <td>\\tꯃꯁꯤꯡꯈꯥ\\n</td>\n",
              "    </tr>\n",
              "    <tr>\n",
              "      <th>10058</th>\n",
              "      <td>ꯄꯣꯛꯄꯥ</td>\n",
              "      <td>pokpaa</td>\n",
              "      <td>\\tꯄꯣꯛꯄꯥ\\n</td>\n",
              "    </tr>\n",
              "    <tr>\n",
              "      <th>10059</th>\n",
              "      <td>ꯁꯅꯥꯖꯥꯎꯕꯅ</td>\n",
              "      <td>sanajaobana</td>\n",
              "      <td>\\tꯁꯅꯥꯖꯥꯎꯕꯅ\\n</td>\n",
              "    </tr>\n",
              "  </tbody>\n",
              "</table>\n",
              "<p>10060 rows × 3 columns</p>\n",
              "</div>\n",
              "    <div class=\"colab-df-buttons\">\n",
              "\n",
              "  <div class=\"colab-df-container\">\n",
              "    <button class=\"colab-df-convert\" onclick=\"convertToInteractive('df-b337fc94-ba2c-4297-823f-cb286f7697e2')\"\n",
              "            title=\"Convert this dataframe to an interactive table.\"\n",
              "            style=\"display:none;\">\n",
              "\n",
              "  <svg xmlns=\"http://www.w3.org/2000/svg\" height=\"24px\" viewBox=\"0 -960 960 960\">\n",
              "    <path d=\"M120-120v-720h720v720H120Zm60-500h600v-160H180v160Zm220 220h160v-160H400v160Zm0 220h160v-160H400v160ZM180-400h160v-160H180v160Zm440 0h160v-160H620v160ZM180-180h160v-160H180v160Zm440 0h160v-160H620v160Z\"/>\n",
              "  </svg>\n",
              "    </button>\n",
              "\n",
              "  <style>\n",
              "    .colab-df-container {\n",
              "      display:flex;\n",
              "      gap: 12px;\n",
              "    }\n",
              "\n",
              "    .colab-df-convert {\n",
              "      background-color: #E8F0FE;\n",
              "      border: none;\n",
              "      border-radius: 50%;\n",
              "      cursor: pointer;\n",
              "      display: none;\n",
              "      fill: #1967D2;\n",
              "      height: 32px;\n",
              "      padding: 0 0 0 0;\n",
              "      width: 32px;\n",
              "    }\n",
              "\n",
              "    .colab-df-convert:hover {\n",
              "      background-color: #E2EBFA;\n",
              "      box-shadow: 0px 1px 2px rgba(60, 64, 67, 0.3), 0px 1px 3px 1px rgba(60, 64, 67, 0.15);\n",
              "      fill: #174EA6;\n",
              "    }\n",
              "\n",
              "    .colab-df-buttons div {\n",
              "      margin-bottom: 4px;\n",
              "    }\n",
              "\n",
              "    [theme=dark] .colab-df-convert {\n",
              "      background-color: #3B4455;\n",
              "      fill: #D2E3FC;\n",
              "    }\n",
              "\n",
              "    [theme=dark] .colab-df-convert:hover {\n",
              "      background-color: #434B5C;\n",
              "      box-shadow: 0px 1px 3px 1px rgba(0, 0, 0, 0.15);\n",
              "      filter: drop-shadow(0px 1px 2px rgba(0, 0, 0, 0.3));\n",
              "      fill: #FFFFFF;\n",
              "    }\n",
              "  </style>\n",
              "\n",
              "    <script>\n",
              "      const buttonEl =\n",
              "        document.querySelector('#df-b337fc94-ba2c-4297-823f-cb286f7697e2 button.colab-df-convert');\n",
              "      buttonEl.style.display =\n",
              "        google.colab.kernel.accessAllowed ? 'block' : 'none';\n",
              "\n",
              "      async function convertToInteractive(key) {\n",
              "        const element = document.querySelector('#df-b337fc94-ba2c-4297-823f-cb286f7697e2');\n",
              "        const dataTable =\n",
              "          await google.colab.kernel.invokeFunction('convertToInteractive',\n",
              "                                                    [key], {});\n",
              "        if (!dataTable) return;\n",
              "\n",
              "        const docLinkHtml = 'Like what you see? Visit the ' +\n",
              "          '<a target=\"_blank\" href=https://colab.research.google.com/notebooks/data_table.ipynb>data table notebook</a>'\n",
              "          + ' to learn more about interactive tables.';\n",
              "        element.innerHTML = '';\n",
              "        dataTable['output_type'] = 'display_data';\n",
              "        await google.colab.output.renderOutput(dataTable, element);\n",
              "        const docLink = document.createElement('div');\n",
              "        docLink.innerHTML = docLinkHtml;\n",
              "        element.appendChild(docLink);\n",
              "      }\n",
              "    </script>\n",
              "  </div>\n",
              "\n",
              "\n",
              "<div id=\"df-e44f00b1-8b6a-4f20-9425-56d5119dd4de\">\n",
              "  <button class=\"colab-df-quickchart\" onclick=\"quickchart('df-e44f00b1-8b6a-4f20-9425-56d5119dd4de')\"\n",
              "            title=\"Suggest charts\"\n",
              "            style=\"display:none;\">\n",
              "\n",
              "<svg xmlns=\"http://www.w3.org/2000/svg\" height=\"24px\"viewBox=\"0 0 24 24\"\n",
              "     width=\"24px\">\n",
              "    <g>\n",
              "        <path d=\"M19 3H5c-1.1 0-2 .9-2 2v14c0 1.1.9 2 2 2h14c1.1 0 2-.9 2-2V5c0-1.1-.9-2-2-2zM9 17H7v-7h2v7zm4 0h-2V7h2v10zm4 0h-2v-4h2v4z\"/>\n",
              "    </g>\n",
              "</svg>\n",
              "  </button>\n",
              "\n",
              "<style>\n",
              "  .colab-df-quickchart {\n",
              "      --bg-color: #E8F0FE;\n",
              "      --fill-color: #1967D2;\n",
              "      --hover-bg-color: #E2EBFA;\n",
              "      --hover-fill-color: #174EA6;\n",
              "      --disabled-fill-color: #AAA;\n",
              "      --disabled-bg-color: #DDD;\n",
              "  }\n",
              "\n",
              "  [theme=dark] .colab-df-quickchart {\n",
              "      --bg-color: #3B4455;\n",
              "      --fill-color: #D2E3FC;\n",
              "      --hover-bg-color: #434B5C;\n",
              "      --hover-fill-color: #FFFFFF;\n",
              "      --disabled-bg-color: #3B4455;\n",
              "      --disabled-fill-color: #666;\n",
              "  }\n",
              "\n",
              "  .colab-df-quickchart {\n",
              "    background-color: var(--bg-color);\n",
              "    border: none;\n",
              "    border-radius: 50%;\n",
              "    cursor: pointer;\n",
              "    display: none;\n",
              "    fill: var(--fill-color);\n",
              "    height: 32px;\n",
              "    padding: 0;\n",
              "    width: 32px;\n",
              "  }\n",
              "\n",
              "  .colab-df-quickchart:hover {\n",
              "    background-color: var(--hover-bg-color);\n",
              "    box-shadow: 0 1px 2px rgba(60, 64, 67, 0.3), 0 1px 3px 1px rgba(60, 64, 67, 0.15);\n",
              "    fill: var(--button-hover-fill-color);\n",
              "  }\n",
              "\n",
              "  .colab-df-quickchart-complete:disabled,\n",
              "  .colab-df-quickchart-complete:disabled:hover {\n",
              "    background-color: var(--disabled-bg-color);\n",
              "    fill: var(--disabled-fill-color);\n",
              "    box-shadow: none;\n",
              "  }\n",
              "\n",
              "  .colab-df-spinner {\n",
              "    border: 2px solid var(--fill-color);\n",
              "    border-color: transparent;\n",
              "    border-bottom-color: var(--fill-color);\n",
              "    animation:\n",
              "      spin 1s steps(1) infinite;\n",
              "  }\n",
              "\n",
              "  @keyframes spin {\n",
              "    0% {\n",
              "      border-color: transparent;\n",
              "      border-bottom-color: var(--fill-color);\n",
              "      border-left-color: var(--fill-color);\n",
              "    }\n",
              "    20% {\n",
              "      border-color: transparent;\n",
              "      border-left-color: var(--fill-color);\n",
              "      border-top-color: var(--fill-color);\n",
              "    }\n",
              "    30% {\n",
              "      border-color: transparent;\n",
              "      border-left-color: var(--fill-color);\n",
              "      border-top-color: var(--fill-color);\n",
              "      border-right-color: var(--fill-color);\n",
              "    }\n",
              "    40% {\n",
              "      border-color: transparent;\n",
              "      border-right-color: var(--fill-color);\n",
              "      border-top-color: var(--fill-color);\n",
              "    }\n",
              "    60% {\n",
              "      border-color: transparent;\n",
              "      border-right-color: var(--fill-color);\n",
              "    }\n",
              "    80% {\n",
              "      border-color: transparent;\n",
              "      border-right-color: var(--fill-color);\n",
              "      border-bottom-color: var(--fill-color);\n",
              "    }\n",
              "    90% {\n",
              "      border-color: transparent;\n",
              "      border-bottom-color: var(--fill-color);\n",
              "    }\n",
              "  }\n",
              "</style>\n",
              "\n",
              "  <script>\n",
              "    async function quickchart(key) {\n",
              "      const quickchartButtonEl =\n",
              "        document.querySelector('#' + key + ' button');\n",
              "      quickchartButtonEl.disabled = true;  // To prevent multiple clicks.\n",
              "      quickchartButtonEl.classList.add('colab-df-spinner');\n",
              "      try {\n",
              "        const charts = await google.colab.kernel.invokeFunction(\n",
              "            'suggestCharts', [key], {});\n",
              "      } catch (error) {\n",
              "        console.error('Error during call to suggestCharts:', error);\n",
              "      }\n",
              "      quickchartButtonEl.classList.remove('colab-df-spinner');\n",
              "      quickchartButtonEl.classList.add('colab-df-quickchart-complete');\n",
              "    }\n",
              "    (() => {\n",
              "      let quickchartButtonEl =\n",
              "        document.querySelector('#df-e44f00b1-8b6a-4f20-9425-56d5119dd4de button');\n",
              "      quickchartButtonEl.style.display =\n",
              "        google.colab.kernel.accessAllowed ? 'block' : 'none';\n",
              "    })();\n",
              "  </script>\n",
              "</div>\n",
              "    </div>\n",
              "  </div>\n"
            ]
          },
          "metadata": {},
          "execution_count": 6
        }
      ]
    },
    {
      "cell_type": "code",
      "source": [
        "def add_end(text):\n",
        "  text = text + \"\\n\"\n",
        "  return text"
      ],
      "metadata": {
        "id": "uWDUuWWj_oc0"
      },
      "execution_count": null,
      "outputs": []
    },
    {
      "cell_type": "code",
      "source": [
        "train['decoder output'] = train['native word'].apply(add_end)\n",
        "train"
      ],
      "metadata": {
        "colab": {
          "base_uri": "https://localhost:8080/",
          "height": 479
        },
        "id": "k9MVwvUG_1_8",
        "outputId": "aff742f9-46b6-420f-d388-24dfd675af86"
      },
      "execution_count": null,
      "outputs": [
        {
          "output_type": "execute_result",
          "data": {
            "text/plain": [
              "       native word      english word    decoder input decoder output\n",
              "0             ꯂꯨꯗꯨ              ludu         \\tꯂꯨꯗꯨ\\n         ꯂꯨꯗꯨ\\n\n",
              "1            ꯑꯣꯛꯁꯥ             oksha        \\tꯑꯣꯛꯁꯥ\\n        ꯑꯣꯛꯁꯥ\\n\n",
              "2            ꯊꯝꯕꯥꯜ           thambal        \\tꯊꯝꯕꯥꯜ\\n        ꯊꯝꯕꯥꯜ\\n\n",
              "3      ꯂꯦꯡꯊꯩꯅꯕꯁꯤꯗꯤ  lengtheinabasidi  \\tꯂꯦꯡꯊꯩꯅꯕꯁꯤꯗꯤ\\n  ꯂꯦꯡꯊꯩꯅꯕꯁꯤꯗꯤ\\n\n",
              "4         ꯑꯦꯄ꯭ꯂꯥꯢꯗ           applied     \\tꯑꯦꯄ꯭ꯂꯥꯢꯗ\\n     ꯑꯦꯄ꯭ꯂꯥꯢꯗ\\n\n",
              "...            ...               ...              ...            ...\n",
              "10055        ꯄꯥꯡꯒꯂ          panggala        \\tꯄꯥꯡꯒꯂ\\n        ꯄꯥꯡꯒꯂ\\n\n",
              "10056    ꯈꯣꯔꯤꯔꯣꯂꯒꯤ       khorirolagi    \\tꯈꯣꯔꯤꯔꯣꯂꯒꯤ\\n    ꯈꯣꯔꯤꯔꯣꯂꯒꯤ\\n\n",
              "10057       ꯃꯁꯤꯡꯈꯥ        masingkhaa       \\tꯃꯁꯤꯡꯈꯥ\\n       ꯃꯁꯤꯡꯈꯥ\\n\n",
              "10058        ꯄꯣꯛꯄꯥ            pokpaa        \\tꯄꯣꯛꯄꯥ\\n        ꯄꯣꯛꯄꯥ\\n\n",
              "10059     ꯁꯅꯥꯖꯥꯎꯕꯅ       sanajaobana     \\tꯁꯅꯥꯖꯥꯎꯕꯅ\\n     ꯁꯅꯥꯖꯥꯎꯕꯅ\\n\n",
              "\n",
              "[10060 rows x 4 columns]"
            ],
            "text/html": [
              "\n",
              "  <div id=\"df-a21f0ea2-10ad-4bb3-9136-4bef169b1445\" class=\"colab-df-container\">\n",
              "    <div>\n",
              "<style scoped>\n",
              "    .dataframe tbody tr th:only-of-type {\n",
              "        vertical-align: middle;\n",
              "    }\n",
              "\n",
              "    .dataframe tbody tr th {\n",
              "        vertical-align: top;\n",
              "    }\n",
              "\n",
              "    .dataframe thead th {\n",
              "        text-align: right;\n",
              "    }\n",
              "</style>\n",
              "<table border=\"1\" class=\"dataframe\">\n",
              "  <thead>\n",
              "    <tr style=\"text-align: right;\">\n",
              "      <th></th>\n",
              "      <th>native word</th>\n",
              "      <th>english word</th>\n",
              "      <th>decoder input</th>\n",
              "      <th>decoder output</th>\n",
              "    </tr>\n",
              "  </thead>\n",
              "  <tbody>\n",
              "    <tr>\n",
              "      <th>0</th>\n",
              "      <td>ꯂꯨꯗꯨ</td>\n",
              "      <td>ludu</td>\n",
              "      <td>\\tꯂꯨꯗꯨ\\n</td>\n",
              "      <td>ꯂꯨꯗꯨ\\n</td>\n",
              "    </tr>\n",
              "    <tr>\n",
              "      <th>1</th>\n",
              "      <td>ꯑꯣꯛꯁꯥ</td>\n",
              "      <td>oksha</td>\n",
              "      <td>\\tꯑꯣꯛꯁꯥ\\n</td>\n",
              "      <td>ꯑꯣꯛꯁꯥ\\n</td>\n",
              "    </tr>\n",
              "    <tr>\n",
              "      <th>2</th>\n",
              "      <td>ꯊꯝꯕꯥꯜ</td>\n",
              "      <td>thambal</td>\n",
              "      <td>\\tꯊꯝꯕꯥꯜ\\n</td>\n",
              "      <td>ꯊꯝꯕꯥꯜ\\n</td>\n",
              "    </tr>\n",
              "    <tr>\n",
              "      <th>3</th>\n",
              "      <td>ꯂꯦꯡꯊꯩꯅꯕꯁꯤꯗꯤ</td>\n",
              "      <td>lengtheinabasidi</td>\n",
              "      <td>\\tꯂꯦꯡꯊꯩꯅꯕꯁꯤꯗꯤ\\n</td>\n",
              "      <td>ꯂꯦꯡꯊꯩꯅꯕꯁꯤꯗꯤ\\n</td>\n",
              "    </tr>\n",
              "    <tr>\n",
              "      <th>4</th>\n",
              "      <td>ꯑꯦꯄ꯭ꯂꯥꯢꯗ</td>\n",
              "      <td>applied</td>\n",
              "      <td>\\tꯑꯦꯄ꯭ꯂꯥꯢꯗ\\n</td>\n",
              "      <td>ꯑꯦꯄ꯭ꯂꯥꯢꯗ\\n</td>\n",
              "    </tr>\n",
              "    <tr>\n",
              "      <th>...</th>\n",
              "      <td>...</td>\n",
              "      <td>...</td>\n",
              "      <td>...</td>\n",
              "      <td>...</td>\n",
              "    </tr>\n",
              "    <tr>\n",
              "      <th>10055</th>\n",
              "      <td>ꯄꯥꯡꯒꯂ</td>\n",
              "      <td>panggala</td>\n",
              "      <td>\\tꯄꯥꯡꯒꯂ\\n</td>\n",
              "      <td>ꯄꯥꯡꯒꯂ\\n</td>\n",
              "    </tr>\n",
              "    <tr>\n",
              "      <th>10056</th>\n",
              "      <td>ꯈꯣꯔꯤꯔꯣꯂꯒꯤ</td>\n",
              "      <td>khorirolagi</td>\n",
              "      <td>\\tꯈꯣꯔꯤꯔꯣꯂꯒꯤ\\n</td>\n",
              "      <td>ꯈꯣꯔꯤꯔꯣꯂꯒꯤ\\n</td>\n",
              "    </tr>\n",
              "    <tr>\n",
              "      <th>10057</th>\n",
              "      <td>ꯃꯁꯤꯡꯈꯥ</td>\n",
              "      <td>masingkhaa</td>\n",
              "      <td>\\tꯃꯁꯤꯡꯈꯥ\\n</td>\n",
              "      <td>ꯃꯁꯤꯡꯈꯥ\\n</td>\n",
              "    </tr>\n",
              "    <tr>\n",
              "      <th>10058</th>\n",
              "      <td>ꯄꯣꯛꯄꯥ</td>\n",
              "      <td>pokpaa</td>\n",
              "      <td>\\tꯄꯣꯛꯄꯥ\\n</td>\n",
              "      <td>ꯄꯣꯛꯄꯥ\\n</td>\n",
              "    </tr>\n",
              "    <tr>\n",
              "      <th>10059</th>\n",
              "      <td>ꯁꯅꯥꯖꯥꯎꯕꯅ</td>\n",
              "      <td>sanajaobana</td>\n",
              "      <td>\\tꯁꯅꯥꯖꯥꯎꯕꯅ\\n</td>\n",
              "      <td>ꯁꯅꯥꯖꯥꯎꯕꯅ\\n</td>\n",
              "    </tr>\n",
              "  </tbody>\n",
              "</table>\n",
              "<p>10060 rows × 4 columns</p>\n",
              "</div>\n",
              "    <div class=\"colab-df-buttons\">\n",
              "\n",
              "  <div class=\"colab-df-container\">\n",
              "    <button class=\"colab-df-convert\" onclick=\"convertToInteractive('df-a21f0ea2-10ad-4bb3-9136-4bef169b1445')\"\n",
              "            title=\"Convert this dataframe to an interactive table.\"\n",
              "            style=\"display:none;\">\n",
              "\n",
              "  <svg xmlns=\"http://www.w3.org/2000/svg\" height=\"24px\" viewBox=\"0 -960 960 960\">\n",
              "    <path d=\"M120-120v-720h720v720H120Zm60-500h600v-160H180v160Zm220 220h160v-160H400v160Zm0 220h160v-160H400v160ZM180-400h160v-160H180v160Zm440 0h160v-160H620v160ZM180-180h160v-160H180v160Zm440 0h160v-160H620v160Z\"/>\n",
              "  </svg>\n",
              "    </button>\n",
              "\n",
              "  <style>\n",
              "    .colab-df-container {\n",
              "      display:flex;\n",
              "      gap: 12px;\n",
              "    }\n",
              "\n",
              "    .colab-df-convert {\n",
              "      background-color: #E8F0FE;\n",
              "      border: none;\n",
              "      border-radius: 50%;\n",
              "      cursor: pointer;\n",
              "      display: none;\n",
              "      fill: #1967D2;\n",
              "      height: 32px;\n",
              "      padding: 0 0 0 0;\n",
              "      width: 32px;\n",
              "    }\n",
              "\n",
              "    .colab-df-convert:hover {\n",
              "      background-color: #E2EBFA;\n",
              "      box-shadow: 0px 1px 2px rgba(60, 64, 67, 0.3), 0px 1px 3px 1px rgba(60, 64, 67, 0.15);\n",
              "      fill: #174EA6;\n",
              "    }\n",
              "\n",
              "    .colab-df-buttons div {\n",
              "      margin-bottom: 4px;\n",
              "    }\n",
              "\n",
              "    [theme=dark] .colab-df-convert {\n",
              "      background-color: #3B4455;\n",
              "      fill: #D2E3FC;\n",
              "    }\n",
              "\n",
              "    [theme=dark] .colab-df-convert:hover {\n",
              "      background-color: #434B5C;\n",
              "      box-shadow: 0px 1px 3px 1px rgba(0, 0, 0, 0.15);\n",
              "      filter: drop-shadow(0px 1px 2px rgba(0, 0, 0, 0.3));\n",
              "      fill: #FFFFFF;\n",
              "    }\n",
              "  </style>\n",
              "\n",
              "    <script>\n",
              "      const buttonEl =\n",
              "        document.querySelector('#df-a21f0ea2-10ad-4bb3-9136-4bef169b1445 button.colab-df-convert');\n",
              "      buttonEl.style.display =\n",
              "        google.colab.kernel.accessAllowed ? 'block' : 'none';\n",
              "\n",
              "      async function convertToInteractive(key) {\n",
              "        const element = document.querySelector('#df-a21f0ea2-10ad-4bb3-9136-4bef169b1445');\n",
              "        const dataTable =\n",
              "          await google.colab.kernel.invokeFunction('convertToInteractive',\n",
              "                                                    [key], {});\n",
              "        if (!dataTable) return;\n",
              "\n",
              "        const docLinkHtml = 'Like what you see? Visit the ' +\n",
              "          '<a target=\"_blank\" href=https://colab.research.google.com/notebooks/data_table.ipynb>data table notebook</a>'\n",
              "          + ' to learn more about interactive tables.';\n",
              "        element.innerHTML = '';\n",
              "        dataTable['output_type'] = 'display_data';\n",
              "        await google.colab.output.renderOutput(dataTable, element);\n",
              "        const docLink = document.createElement('div');\n",
              "        docLink.innerHTML = docLinkHtml;\n",
              "        element.appendChild(docLink);\n",
              "      }\n",
              "    </script>\n",
              "  </div>\n",
              "\n",
              "\n",
              "<div id=\"df-d2a944a3-34a0-4eb2-be82-219f3c08593d\">\n",
              "  <button class=\"colab-df-quickchart\" onclick=\"quickchart('df-d2a944a3-34a0-4eb2-be82-219f3c08593d')\"\n",
              "            title=\"Suggest charts\"\n",
              "            style=\"display:none;\">\n",
              "\n",
              "<svg xmlns=\"http://www.w3.org/2000/svg\" height=\"24px\"viewBox=\"0 0 24 24\"\n",
              "     width=\"24px\">\n",
              "    <g>\n",
              "        <path d=\"M19 3H5c-1.1 0-2 .9-2 2v14c0 1.1.9 2 2 2h14c1.1 0 2-.9 2-2V5c0-1.1-.9-2-2-2zM9 17H7v-7h2v7zm4 0h-2V7h2v10zm4 0h-2v-4h2v4z\"/>\n",
              "    </g>\n",
              "</svg>\n",
              "  </button>\n",
              "\n",
              "<style>\n",
              "  .colab-df-quickchart {\n",
              "      --bg-color: #E8F0FE;\n",
              "      --fill-color: #1967D2;\n",
              "      --hover-bg-color: #E2EBFA;\n",
              "      --hover-fill-color: #174EA6;\n",
              "      --disabled-fill-color: #AAA;\n",
              "      --disabled-bg-color: #DDD;\n",
              "  }\n",
              "\n",
              "  [theme=dark] .colab-df-quickchart {\n",
              "      --bg-color: #3B4455;\n",
              "      --fill-color: #D2E3FC;\n",
              "      --hover-bg-color: #434B5C;\n",
              "      --hover-fill-color: #FFFFFF;\n",
              "      --disabled-bg-color: #3B4455;\n",
              "      --disabled-fill-color: #666;\n",
              "  }\n",
              "\n",
              "  .colab-df-quickchart {\n",
              "    background-color: var(--bg-color);\n",
              "    border: none;\n",
              "    border-radius: 50%;\n",
              "    cursor: pointer;\n",
              "    display: none;\n",
              "    fill: var(--fill-color);\n",
              "    height: 32px;\n",
              "    padding: 0;\n",
              "    width: 32px;\n",
              "  }\n",
              "\n",
              "  .colab-df-quickchart:hover {\n",
              "    background-color: var(--hover-bg-color);\n",
              "    box-shadow: 0 1px 2px rgba(60, 64, 67, 0.3), 0 1px 3px 1px rgba(60, 64, 67, 0.15);\n",
              "    fill: var(--button-hover-fill-color);\n",
              "  }\n",
              "\n",
              "  .colab-df-quickchart-complete:disabled,\n",
              "  .colab-df-quickchart-complete:disabled:hover {\n",
              "    background-color: var(--disabled-bg-color);\n",
              "    fill: var(--disabled-fill-color);\n",
              "    box-shadow: none;\n",
              "  }\n",
              "\n",
              "  .colab-df-spinner {\n",
              "    border: 2px solid var(--fill-color);\n",
              "    border-color: transparent;\n",
              "    border-bottom-color: var(--fill-color);\n",
              "    animation:\n",
              "      spin 1s steps(1) infinite;\n",
              "  }\n",
              "\n",
              "  @keyframes spin {\n",
              "    0% {\n",
              "      border-color: transparent;\n",
              "      border-bottom-color: var(--fill-color);\n",
              "      border-left-color: var(--fill-color);\n",
              "    }\n",
              "    20% {\n",
              "      border-color: transparent;\n",
              "      border-left-color: var(--fill-color);\n",
              "      border-top-color: var(--fill-color);\n",
              "    }\n",
              "    30% {\n",
              "      border-color: transparent;\n",
              "      border-left-color: var(--fill-color);\n",
              "      border-top-color: var(--fill-color);\n",
              "      border-right-color: var(--fill-color);\n",
              "    }\n",
              "    40% {\n",
              "      border-color: transparent;\n",
              "      border-right-color: var(--fill-color);\n",
              "      border-top-color: var(--fill-color);\n",
              "    }\n",
              "    60% {\n",
              "      border-color: transparent;\n",
              "      border-right-color: var(--fill-color);\n",
              "    }\n",
              "    80% {\n",
              "      border-color: transparent;\n",
              "      border-right-color: var(--fill-color);\n",
              "      border-bottom-color: var(--fill-color);\n",
              "    }\n",
              "    90% {\n",
              "      border-color: transparent;\n",
              "      border-bottom-color: var(--fill-color);\n",
              "    }\n",
              "  }\n",
              "</style>\n",
              "\n",
              "  <script>\n",
              "    async function quickchart(key) {\n",
              "      const quickchartButtonEl =\n",
              "        document.querySelector('#' + key + ' button');\n",
              "      quickchartButtonEl.disabled = true;  // To prevent multiple clicks.\n",
              "      quickchartButtonEl.classList.add('colab-df-spinner');\n",
              "      try {\n",
              "        const charts = await google.colab.kernel.invokeFunction(\n",
              "            'suggestCharts', [key], {});\n",
              "      } catch (error) {\n",
              "        console.error('Error during call to suggestCharts:', error);\n",
              "      }\n",
              "      quickchartButtonEl.classList.remove('colab-df-spinner');\n",
              "      quickchartButtonEl.classList.add('colab-df-quickchart-complete');\n",
              "    }\n",
              "    (() => {\n",
              "      let quickchartButtonEl =\n",
              "        document.querySelector('#df-d2a944a3-34a0-4eb2-be82-219f3c08593d button');\n",
              "      quickchartButtonEl.style.display =\n",
              "        google.colab.kernel.accessAllowed ? 'block' : 'none';\n",
              "    })();\n",
              "  </script>\n",
              "</div>\n",
              "    </div>\n",
              "  </div>\n"
            ]
          },
          "metadata": {},
          "execution_count": 8
        }
      ]
    },
    {
      "cell_type": "markdown",
      "source": [
        "## Tokenization"
      ],
      "metadata": {
        "id": "vs_zyDNc5jxs"
      }
    },
    {
      "cell_type": "markdown",
      "source": [
        "### English"
      ],
      "metadata": {
        "id": "4Na3lVhM73Sz"
      }
    },
    {
      "cell_type": "code",
      "source": [
        "eng_words = train['english word']\n",
        "eng_words"
      ],
      "metadata": {
        "colab": {
          "base_uri": "https://localhost:8080/"
        },
        "id": "Lw_VFAuv_-AW",
        "outputId": "e9707c56-4910-43af-abe6-9f58fcca290e"
      },
      "execution_count": null,
      "outputs": [
        {
          "output_type": "execute_result",
          "data": {
            "text/plain": [
              "0                    ludu\n",
              "1                   oksha\n",
              "2                 thambal\n",
              "3        lengtheinabasidi\n",
              "4                 applied\n",
              "               ...       \n",
              "10055            panggala\n",
              "10056         khorirolagi\n",
              "10057          masingkhaa\n",
              "10058              pokpaa\n",
              "10059         sanajaobana\n",
              "Name: english word, Length: 10060, dtype: object"
            ]
          },
          "metadata": {},
          "execution_count": 9
        }
      ]
    },
    {
      "cell_type": "code",
      "source": [
        "eng_tokenizer = Tokenizer(filters = '', char_level = True)\n",
        "eng_tokenizer.fit_on_texts(eng_words)\n",
        "eng_tokens = eng_tokenizer.word_index\n",
        "print(\"Number of english tokens: \", len(eng_tokens))\n",
        "print(eng_tokens)"
      ],
      "metadata": {
        "colab": {
          "base_uri": "https://localhost:8080/"
        },
        "id": "F0lP-iWm5_zN",
        "outputId": "2f02b6e7-03f1-4f3b-8b23-017d31e038a9"
      },
      "execution_count": null,
      "outputs": [
        {
          "output_type": "stream",
          "name": "stdout",
          "text": [
            "Number of english tokens:  26\n",
            "{'a': 1, 'i': 2, 'n': 3, 'h': 4, 'g': 5, 'k': 6, 'm': 7, 't': 8, 'o': 9, 'u': 10, 'e': 11, 'l': 12, 's': 13, 'p': 14, 'b': 15, 'r': 16, 'd': 17, 'c': 18, 'y': 19, 'w': 20, 'j': 21, 'f': 22, 'v': 23, 'z': 24, 'q': 25, 'x': 26}\n"
          ]
        }
      ]
    },
    {
      "cell_type": "markdown",
      "source": [
        "### Meitei Mayek"
      ],
      "metadata": {
        "id": "b14YCrOK75x6"
      }
    },
    {
      "cell_type": "code",
      "source": [
        "mm_words = train['decoder input']\n",
        "mm_words"
      ],
      "metadata": {
        "colab": {
          "base_uri": "https://localhost:8080/"
        },
        "id": "uQD67sLf777R",
        "outputId": "e603177d-b3e3-47de-f1a1-25f8bdd48d38"
      },
      "execution_count": null,
      "outputs": [
        {
          "output_type": "execute_result",
          "data": {
            "text/plain": [
              "0               \\tꯂꯨꯗꯨ\\n\n",
              "1              \\tꯑꯣꯛꯁꯥ\\n\n",
              "2              \\tꯊꯝꯕꯥꯜ\\n\n",
              "3        \\tꯂꯦꯡꯊꯩꯅꯕꯁꯤꯗꯤ\\n\n",
              "4           \\tꯑꯦꯄ꯭ꯂꯥꯢꯗ\\n\n",
              "              ...       \n",
              "10055          \\tꯄꯥꯡꯒꯂ\\n\n",
              "10056      \\tꯈꯣꯔꯤꯔꯣꯂꯒꯤ\\n\n",
              "10057         \\tꯃꯁꯤꯡꯈꯥ\\n\n",
              "10058          \\tꯄꯣꯛꯄꯥ\\n\n",
              "10059       \\tꯁꯅꯥꯖꯥꯎꯕꯅ\\n\n",
              "Name: decoder input, Length: 10060, dtype: object"
            ]
          },
          "metadata": {},
          "execution_count": 11
        }
      ]
    },
    {
      "cell_type": "code",
      "source": [
        "label = train[\"decoder output\"]\n",
        "label"
      ],
      "metadata": {
        "colab": {
          "base_uri": "https://localhost:8080/"
        },
        "id": "qoNaYF8ORk3B",
        "outputId": "37291fa1-44a4-4630-f1c4-18b980dafb9b"
      },
      "execution_count": null,
      "outputs": [
        {
          "output_type": "execute_result",
          "data": {
            "text/plain": [
              "0               ꯂꯨꯗꯨ\\n\n",
              "1              ꯑꯣꯛꯁꯥ\\n\n",
              "2              ꯊꯝꯕꯥꯜ\\n\n",
              "3        ꯂꯦꯡꯊꯩꯅꯕꯁꯤꯗꯤ\\n\n",
              "4           ꯑꯦꯄ꯭ꯂꯥꯢꯗ\\n\n",
              "             ...      \n",
              "10055          ꯄꯥꯡꯒꯂ\\n\n",
              "10056      ꯈꯣꯔꯤꯔꯣꯂꯒꯤ\\n\n",
              "10057         ꯃꯁꯤꯡꯈꯥ\\n\n",
              "10058          ꯄꯣꯛꯄꯥ\\n\n",
              "10059       ꯁꯅꯥꯖꯥꯎꯕꯅ\\n\n",
              "Name: decoder output, Length: 10060, dtype: object"
            ]
          },
          "metadata": {},
          "execution_count": 12
        }
      ]
    },
    {
      "cell_type": "code",
      "source": [
        "mm_tokenizer = Tokenizer(filters = '', char_level = True)\n",
        "mm_tokenizer.fit_on_texts(mm_words)\n",
        "mm_tokens = mm_tokenizer.word_index\n",
        "print(\"Number of Meitei Mayek tokens: \", len(mm_tokens))\n",
        "print(mm_tokens)"
      ],
      "metadata": {
        "colab": {
          "base_uri": "https://localhost:8080/"
        },
        "id": "IpMI_N2-6GgU",
        "outputId": "8993f28e-e06e-41db-f288-e063b7bdbefa"
      },
      "execution_count": null,
      "outputs": [
        {
          "output_type": "stream",
          "name": "stdout",
          "text": [
            "Number of Meitei Mayek tokens:  46\n",
            "{'\\t': 1, '\\n': 2, 'ꯤ': 3, 'ꯥ': 4, 'ꯅ': 5, 'ꯁ': 6, 'ꯕ': 7, 'ꯨ': 8, 'ꯔ': 9, 'ꯣ': 10, 'ꯂ': 11, 'ꯡ': 12, 'ꯗ': 13, 'ꯟ': 14, 'ꯃ': 15, 'ꯄ': 16, 'ꯒ': 17, 'ꯦ': 18, 'ꯝ': 19, 'ꯇ': 20, 'ꯛ': 21, 'ꯀ': 22, 'ꯈ': 23, 'ꯌ': 24, 'ꯊ': 25, 'ꯍ': 26, 'ꯆ': 27, 'ꯩ': 28, 'ꯑ': 29, 'ꯐ': 30, 'ꯠ': 31, 'ꯜ': 32, 'ꯢ': 33, 'ꯧ': 34, 'ꯏ': 35, 'ꯖ': 36, 'ꯋ': 37, '꯭': 38, 'ꯉ': 39, 'ꯎ': 40, 'ꯪ': 41, 'ꯞ': 42, 'ꯚ': 43, 'ꯓ': 44, 'ꯙ': 45, 'ꯘ': 46}\n"
          ]
        }
      ]
    },
    {
      "cell_type": "markdown",
      "source": [
        "## Preparing encoder input and output"
      ],
      "metadata": {
        "id": "MmeCc8Wf9SbL"
      }
    },
    {
      "cell_type": "code",
      "source": [
        "eng_vocab_size = len(eng_tokens) + 1\n",
        "mm_vocab_size = len(mm_tokens) + 1"
      ],
      "metadata": {
        "id": "p6XdD1lr8UPs"
      },
      "execution_count": null,
      "outputs": []
    },
    {
      "cell_type": "markdown",
      "source": [
        "### English"
      ],
      "metadata": {
        "id": "XtS3zqZtAC3z"
      }
    },
    {
      "cell_type": "code",
      "source": [
        "eng_seq = eng_tokenizer.texts_to_sequences(eng_words)\n",
        "eng_seq[12], eng_words[12]"
      ],
      "metadata": {
        "colab": {
          "base_uri": "https://localhost:8080/"
        },
        "id": "GwfXvQQh-Gqg",
        "outputId": "e1ba5dd5-5b5a-4cee-c902-144ff1dcd0d1"
      },
      "execution_count": null,
      "outputs": [
        {
          "output_type": "execute_result",
          "data": {
            "text/plain": [
              "([11, 7, 2, 16, 1, 8, 11], 'emirate')"
            ]
          },
          "metadata": {},
          "execution_count": 15
        }
      ]
    },
    {
      "cell_type": "code",
      "source": [
        "max_encoder_length = eng_words.str.len().max()\n",
        "max_encoder_length"
      ],
      "metadata": {
        "colab": {
          "base_uri": "https://localhost:8080/"
        },
        "id": "Kn8-bxDA_Ghd",
        "outputId": "47d202a3-0f75-4847-e8ac-cac89c455f6d"
      },
      "execution_count": null,
      "outputs": [
        {
          "output_type": "execute_result",
          "data": {
            "text/plain": [
              "22"
            ]
          },
          "metadata": {},
          "execution_count": 16
        }
      ]
    },
    {
      "cell_type": "code",
      "source": [
        "eng_padded = pad_sequences(eng_seq, maxlen = max_encoder_length, padding = 'post')"
      ],
      "metadata": {
        "id": "sTXpf_ifAPAv"
      },
      "execution_count": null,
      "outputs": []
    },
    {
      "cell_type": "code",
      "source": [
        "for i in range(10):\n",
        "  print(str(eng_words[i]) + \" \" + str(eng_seq[i]) + str(eng_padded[i]))"
      ],
      "metadata": {
        "colab": {
          "base_uri": "https://localhost:8080/"
        },
        "id": "Ok-e0xECAx18",
        "outputId": "1cc46d8b-20a5-44e3-b152-7756de5b0fc1"
      },
      "execution_count": null,
      "outputs": [
        {
          "output_type": "stream",
          "name": "stdout",
          "text": [
            "ludu [12, 10, 17, 10][12 10 17 10  0  0  0  0  0  0  0  0  0  0  0  0  0  0  0  0  0  0]\n",
            "oksha [9, 6, 13, 4, 1][ 9  6 13  4  1  0  0  0  0  0  0  0  0  0  0  0  0  0  0  0  0  0]\n",
            "thambal [8, 4, 1, 7, 15, 1, 12][ 8  4  1  7 15  1 12  0  0  0  0  0  0  0  0  0  0  0  0  0  0  0]\n",
            "lengtheinabasidi [12, 11, 3, 5, 8, 4, 11, 2, 3, 1, 15, 1, 13, 2, 17, 2][12 11  3  5  8  4 11  2  3  1 15  1 13  2 17  2  0  0  0  0  0  0]\n",
            "applied [1, 14, 14, 12, 2, 11, 17][ 1 14 14 12  2 11 17  0  0  0  0  0  0  0  0  0  0  0  0  0  0  0]\n",
            "humaang [4, 10, 7, 1, 1, 3, 5][ 4 10  7  1  1  3  5  0  0  0  0  0  0  0  0  0  0  0  0  0  0  0]\n",
            "jesusna [21, 11, 13, 10, 13, 3, 1][21 11 13 10 13  3  1  0  0  0  0  0  0  0  0  0  0  0  0  0  0  0]\n",
            "nungsijaba [3, 10, 3, 5, 13, 2, 21, 1, 15, 1][ 3 10  3  5 13  2 21  1 15  1  0  0  0  0  0  0  0  0  0  0  0  0]\n",
            "leihalli [12, 11, 2, 4, 1, 12, 12, 2][12 11  2  4  1 12 12  2  0  0  0  0  0  0  0  0  0  0  0  0  0  0]\n",
            "satli [13, 1, 8, 12, 2][13  1  8 12  2  0  0  0  0  0  0  0  0  0  0  0  0  0  0  0  0  0]\n"
          ]
        }
      ]
    },
    {
      "cell_type": "code",
      "source": [
        "for i in range(10):\n",
        "  for character in eng_words[i]:\n",
        "    number = eng_tokens[character]\n",
        "    print(str(character) + \"-\" + str(number))\n",
        "  for list in eng_seq[i]:\n",
        "    print(list, end = \" \")\n",
        "  print(\"\\n\")"
      ],
      "metadata": {
        "colab": {
          "base_uri": "https://localhost:8080/"
        },
        "id": "S1Puu_FQJwAZ",
        "outputId": "13882e0d-ca5e-48d5-8346-421a6c7610ff"
      },
      "execution_count": null,
      "outputs": [
        {
          "output_type": "stream",
          "name": "stdout",
          "text": [
            "l-12\n",
            "u-10\n",
            "d-17\n",
            "u-10\n",
            "12 10 17 10 \n",
            "\n",
            "o-9\n",
            "k-6\n",
            "s-13\n",
            "h-4\n",
            "a-1\n",
            "9 6 13 4 1 \n",
            "\n",
            "t-8\n",
            "h-4\n",
            "a-1\n",
            "m-7\n",
            "b-15\n",
            "a-1\n",
            "l-12\n",
            "8 4 1 7 15 1 12 \n",
            "\n",
            "l-12\n",
            "e-11\n",
            "n-3\n",
            "g-5\n",
            "t-8\n",
            "h-4\n",
            "e-11\n",
            "i-2\n",
            "n-3\n",
            "a-1\n",
            "b-15\n",
            "a-1\n",
            "s-13\n",
            "i-2\n",
            "d-17\n",
            "i-2\n",
            "12 11 3 5 8 4 11 2 3 1 15 1 13 2 17 2 \n",
            "\n",
            "a-1\n",
            "p-14\n",
            "p-14\n",
            "l-12\n",
            "i-2\n",
            "e-11\n",
            "d-17\n",
            "1 14 14 12 2 11 17 \n",
            "\n",
            "h-4\n",
            "u-10\n",
            "m-7\n",
            "a-1\n",
            "a-1\n",
            "n-3\n",
            "g-5\n",
            "4 10 7 1 1 3 5 \n",
            "\n",
            "j-21\n",
            "e-11\n",
            "s-13\n",
            "u-10\n",
            "s-13\n",
            "n-3\n",
            "a-1\n",
            "21 11 13 10 13 3 1 \n",
            "\n",
            "n-3\n",
            "u-10\n",
            "n-3\n",
            "g-5\n",
            "s-13\n",
            "i-2\n",
            "j-21\n",
            "a-1\n",
            "b-15\n",
            "a-1\n",
            "3 10 3 5 13 2 21 1 15 1 \n",
            "\n",
            "l-12\n",
            "e-11\n",
            "i-2\n",
            "h-4\n",
            "a-1\n",
            "l-12\n",
            "l-12\n",
            "i-2\n",
            "12 11 2 4 1 12 12 2 \n",
            "\n",
            "s-13\n",
            "a-1\n",
            "t-8\n",
            "l-12\n",
            "i-2\n",
            "13 1 8 12 2 \n",
            "\n"
          ]
        }
      ]
    },
    {
      "cell_type": "code",
      "source": [
        "input = eng_padded"
      ],
      "metadata": {
        "id": "QkHPF--qBAMJ"
      },
      "execution_count": null,
      "outputs": []
    },
    {
      "cell_type": "markdown",
      "source": [
        "###Meitei Mayek"
      ],
      "metadata": {
        "id": "Ul7V_ilMOaZJ"
      }
    },
    {
      "cell_type": "code",
      "source": [
        "decoder_input_seq = mm_tokenizer.texts_to_sequences(mm_words)\n",
        "decoder_output_seq = mm_tokenizer.texts_to_sequences(label)\n",
        "decoder_input_seq[0], decoder_output_seq[0], mm_words[0]"
      ],
      "metadata": {
        "colab": {
          "base_uri": "https://localhost:8080/"
        },
        "id": "BAGt28o8LTWw",
        "outputId": "11082f78-1d91-48e9-ab1d-c49f97bb3bdf"
      },
      "execution_count": null,
      "outputs": [
        {
          "output_type": "execute_result",
          "data": {
            "text/plain": [
              "([1, 11, 8, 13, 8, 2], [11, 8, 13, 8, 2], '\\tꯂꯨꯗꯨ\\n')"
            ]
          },
          "metadata": {},
          "execution_count": 21
        }
      ]
    },
    {
      "cell_type": "code",
      "source": [
        "max_decoder_length = mm_words.str.len().max()\n",
        "max_decoder_length"
      ],
      "metadata": {
        "colab": {
          "base_uri": "https://localhost:8080/"
        },
        "id": "XOpQRZQuOu6J",
        "outputId": "174e3abe-a202-485d-eaa2-cdcb42d68633"
      },
      "execution_count": null,
      "outputs": [
        {
          "output_type": "execute_result",
          "data": {
            "text/plain": [
              "20"
            ]
          },
          "metadata": {},
          "execution_count": 22
        }
      ]
    },
    {
      "cell_type": "code",
      "source": [
        "decoder_input_padded = pad_sequences(decoder_input_seq, maxlen = max_decoder_length, padding = 'post')"
      ],
      "metadata": {
        "id": "-1VgwBbvQqr5"
      },
      "execution_count": null,
      "outputs": []
    },
    {
      "cell_type": "code",
      "source": [
        "for i in range(10):\n",
        "  print(str(mm_words[i]) + str(decoder_input_seq[i]) + str(decoder_input_padded[i]))"
      ],
      "metadata": {
        "colab": {
          "base_uri": "https://localhost:8080/"
        },
        "id": "B9kwflWeR6U4",
        "outputId": "5d3238e4-1e43-4ccd-9de7-3753f2ac61b4"
      },
      "execution_count": null,
      "outputs": [
        {
          "output_type": "stream",
          "name": "stdout",
          "text": [
            "\tꯂꯨꯗꯨ\n",
            "[1, 11, 8, 13, 8, 2][ 1 11  8 13  8  2  0  0  0  0  0  0  0  0  0  0  0  0  0  0]\n",
            "\tꯑꯣꯛꯁꯥ\n",
            "[1, 29, 10, 21, 6, 4, 2][ 1 29 10 21  6  4  2  0  0  0  0  0  0  0  0  0  0  0  0  0]\n",
            "\tꯊꯝꯕꯥꯜ\n",
            "[1, 25, 19, 7, 4, 32, 2][ 1 25 19  7  4 32  2  0  0  0  0  0  0  0  0  0  0  0  0  0]\n",
            "\tꯂꯦꯡꯊꯩꯅꯕꯁꯤꯗꯤ\n",
            "[1, 11, 18, 12, 25, 28, 5, 7, 6, 3, 13, 3, 2][ 1 11 18 12 25 28  5  7  6  3 13  3  2  0  0  0  0  0  0  0]\n",
            "\tꯑꯦꯄ꯭ꯂꯥꯢꯗ\n",
            "[1, 29, 18, 16, 38, 11, 4, 33, 13, 2][ 1 29 18 16 38 11  4 33 13  2  0  0  0  0  0  0  0  0  0  0]\n",
            "\tꯍꯨꯃꯥꯡ\n",
            "[1, 26, 8, 15, 4, 12, 2][ 1 26  8 15  4 12  2  0  0  0  0  0  0  0  0  0  0  0  0  0]\n",
            "\tꯖꯤꯖꯁꯅ\n",
            "[1, 36, 3, 36, 6, 5, 2][ 1 36  3 36  6  5  2  0  0  0  0  0  0  0  0  0  0  0  0  0]\n",
            "\tꯅꯨꯡꯁꯤꯖꯕ\n",
            "[1, 5, 8, 12, 6, 3, 36, 7, 2][ 1  5  8 12  6  3 36  7  2  0  0  0  0  0  0  0  0  0  0  0]\n",
            "\tꯂꯩꯍꯜꯂꯤ\n",
            "[1, 11, 28, 26, 32, 11, 3, 2][ 1 11 28 26 32 11  3  2  0  0  0  0  0  0  0  0  0  0  0  0]\n",
            "\tꯁꯥꯠꯂꯤ\n",
            "[1, 6, 4, 31, 11, 3, 2][ 1  6  4 31 11  3  2  0  0  0  0  0  0  0  0  0  0  0  0  0]\n"
          ]
        }
      ]
    },
    {
      "cell_type": "code",
      "source": [
        "decoder_output_padded = pad_sequences(decoder_output_seq, maxlen = max_decoder_length, padding = 'post')"
      ],
      "metadata": {
        "id": "8pNqXWyRSu14"
      },
      "execution_count": null,
      "outputs": []
    },
    {
      "cell_type": "code",
      "source": [
        "for i in range(10):\n",
        "  print(str(label[i]) + str(decoder_output_seq[i]) + str(decoder_output_padded[i]))"
      ],
      "metadata": {
        "colab": {
          "base_uri": "https://localhost:8080/"
        },
        "id": "tFFdU-zJUYzj",
        "outputId": "33ab8a9e-f41c-4499-ba0b-f8853341326f"
      },
      "execution_count": null,
      "outputs": [
        {
          "output_type": "stream",
          "name": "stdout",
          "text": [
            "ꯂꯨꯗꯨ\n",
            "[11, 8, 13, 8, 2][11  8 13  8  2  0  0  0  0  0  0  0  0  0  0  0  0  0  0  0]\n",
            "ꯑꯣꯛꯁꯥ\n",
            "[29, 10, 21, 6, 4, 2][29 10 21  6  4  2  0  0  0  0  0  0  0  0  0  0  0  0  0  0]\n",
            "ꯊꯝꯕꯥꯜ\n",
            "[25, 19, 7, 4, 32, 2][25 19  7  4 32  2  0  0  0  0  0  0  0  0  0  0  0  0  0  0]\n",
            "ꯂꯦꯡꯊꯩꯅꯕꯁꯤꯗꯤ\n",
            "[11, 18, 12, 25, 28, 5, 7, 6, 3, 13, 3, 2][11 18 12 25 28  5  7  6  3 13  3  2  0  0  0  0  0  0  0  0]\n",
            "ꯑꯦꯄ꯭ꯂꯥꯢꯗ\n",
            "[29, 18, 16, 38, 11, 4, 33, 13, 2][29 18 16 38 11  4 33 13  2  0  0  0  0  0  0  0  0  0  0  0]\n",
            "ꯍꯨꯃꯥꯡ\n",
            "[26, 8, 15, 4, 12, 2][26  8 15  4 12  2  0  0  0  0  0  0  0  0  0  0  0  0  0  0]\n",
            "ꯖꯤꯖꯁꯅ\n",
            "[36, 3, 36, 6, 5, 2][36  3 36  6  5  2  0  0  0  0  0  0  0  0  0  0  0  0  0  0]\n",
            "ꯅꯨꯡꯁꯤꯖꯕ\n",
            "[5, 8, 12, 6, 3, 36, 7, 2][ 5  8 12  6  3 36  7  2  0  0  0  0  0  0  0  0  0  0  0  0]\n",
            "ꯂꯩꯍꯜꯂꯤ\n",
            "[11, 28, 26, 32, 11, 3, 2][11 28 26 32 11  3  2  0  0  0  0  0  0  0  0  0  0  0  0  0]\n",
            "ꯁꯥꯠꯂꯤ\n",
            "[6, 4, 31, 11, 3, 2][ 6  4 31 11  3  2  0  0  0  0  0  0  0  0  0  0  0  0  0  0]\n"
          ]
        }
      ]
    },
    {
      "cell_type": "code",
      "source": [
        "for i in range(10):\n",
        "  for character in mm_words[i]:\n",
        "    number = mm_tokens[character]\n",
        "    print(str(character) + \"-\" + str(number))\n",
        "  for list in decoder_input_seq[i]:\n",
        "    print(list, end = \" \")\n",
        "  print(\"\\n\")"
      ],
      "metadata": {
        "colab": {
          "base_uri": "https://localhost:8080/"
        },
        "id": "GbRfbM2aUjzD",
        "outputId": "b0af2b43-882d-41e2-dcbf-c2fd0e966acc"
      },
      "execution_count": null,
      "outputs": [
        {
          "output_type": "stream",
          "name": "stdout",
          "text": [
            "\t-1\n",
            "ꯂ-11\n",
            "ꯨ-8\n",
            "ꯗ-13\n",
            "ꯨ-8\n",
            "\n",
            "-2\n",
            "1 11 8 13 8 2 \n",
            "\n",
            "\t-1\n",
            "ꯑ-29\n",
            "ꯣ-10\n",
            "ꯛ-21\n",
            "ꯁ-6\n",
            "ꯥ-4\n",
            "\n",
            "-2\n",
            "1 29 10 21 6 4 2 \n",
            "\n",
            "\t-1\n",
            "ꯊ-25\n",
            "ꯝ-19\n",
            "ꯕ-7\n",
            "ꯥ-4\n",
            "ꯜ-32\n",
            "\n",
            "-2\n",
            "1 25 19 7 4 32 2 \n",
            "\n",
            "\t-1\n",
            "ꯂ-11\n",
            "ꯦ-18\n",
            "ꯡ-12\n",
            "ꯊ-25\n",
            "ꯩ-28\n",
            "ꯅ-5\n",
            "ꯕ-7\n",
            "ꯁ-6\n",
            "ꯤ-3\n",
            "ꯗ-13\n",
            "ꯤ-3\n",
            "\n",
            "-2\n",
            "1 11 18 12 25 28 5 7 6 3 13 3 2 \n",
            "\n",
            "\t-1\n",
            "ꯑ-29\n",
            "ꯦ-18\n",
            "ꯄ-16\n",
            "꯭-38\n",
            "ꯂ-11\n",
            "ꯥ-4\n",
            "ꯢ-33\n",
            "ꯗ-13\n",
            "\n",
            "-2\n",
            "1 29 18 16 38 11 4 33 13 2 \n",
            "\n",
            "\t-1\n",
            "ꯍ-26\n",
            "ꯨ-8\n",
            "ꯃ-15\n",
            "ꯥ-4\n",
            "ꯡ-12\n",
            "\n",
            "-2\n",
            "1 26 8 15 4 12 2 \n",
            "\n",
            "\t-1\n",
            "ꯖ-36\n",
            "ꯤ-3\n",
            "ꯖ-36\n",
            "ꯁ-6\n",
            "ꯅ-5\n",
            "\n",
            "-2\n",
            "1 36 3 36 6 5 2 \n",
            "\n",
            "\t-1\n",
            "ꯅ-5\n",
            "ꯨ-8\n",
            "ꯡ-12\n",
            "ꯁ-6\n",
            "ꯤ-3\n",
            "ꯖ-36\n",
            "ꯕ-7\n",
            "\n",
            "-2\n",
            "1 5 8 12 6 3 36 7 2 \n",
            "\n",
            "\t-1\n",
            "ꯂ-11\n",
            "ꯩ-28\n",
            "ꯍ-26\n",
            "ꯜ-32\n",
            "ꯂ-11\n",
            "ꯤ-3\n",
            "\n",
            "-2\n",
            "1 11 28 26 32 11 3 2 \n",
            "\n",
            "\t-1\n",
            "ꯁ-6\n",
            "ꯥ-4\n",
            "ꯠ-31\n",
            "ꯂ-11\n",
            "ꯤ-3\n",
            "\n",
            "-2\n",
            "1 6 4 31 11 3 2 \n",
            "\n"
          ]
        }
      ]
    },
    {
      "cell_type": "code",
      "source": [
        "decoder_input = decoder_input_padded\n",
        "decoder_output = decoder_output_padded"
      ],
      "metadata": {
        "id": "PqKPxpi6U5xD"
      },
      "execution_count": null,
      "outputs": []
    },
    {
      "cell_type": "markdown",
      "source": [
        "# Model Architecture - BiLSTM with attention"
      ],
      "metadata": {
        "id": "Ucw0OTBSVeeJ"
      }
    },
    {
      "cell_type": "code",
      "source": [
        "latent_dim = 64\n",
        "emb_dim = 100"
      ],
      "metadata": {
        "id": "Cmpsd90mVKFT"
      },
      "execution_count": null,
      "outputs": []
    },
    {
      "cell_type": "markdown",
      "source": [
        "### Encoder"
      ],
      "metadata": {
        "id": "ua1R1vY3BySf"
      }
    },
    {
      "cell_type": "code",
      "source": [
        "input.shape"
      ],
      "metadata": {
        "colab": {
          "base_uri": "https://localhost:8080/"
        },
        "id": "V9I-6li0CCFl",
        "outputId": "7539b7db-7dad-48ac-8423-9b5bad5d26ea"
      },
      "execution_count": null,
      "outputs": [
        {
          "output_type": "execute_result",
          "data": {
            "text/plain": [
              "(10060, 22)"
            ]
          },
          "metadata": {},
          "execution_count": 30
        }
      ]
    },
    {
      "cell_type": "code",
      "source": [
        "encoder_input = keras.Input(shape = (max_encoder_length,), name = \"encoder_input\")\n",
        "encoder_input"
      ],
      "metadata": {
        "colab": {
          "base_uri": "https://localhost:8080/"
        },
        "id": "KH-ywpqJAsPa",
        "outputId": "1e92fc50-5fb5-4501-8928-ee9ca7e85641"
      },
      "execution_count": null,
      "outputs": [
        {
          "output_type": "execute_result",
          "data": {
            "text/plain": [
              "<KerasTensor: shape=(None, 22) dtype=float32 (created by layer 'encoder_input')>"
            ]
          },
          "metadata": {},
          "execution_count": 31
        }
      ]
    },
    {
      "cell_type": "code",
      "source": [
        "eng_vocab_size"
      ],
      "metadata": {
        "colab": {
          "base_uri": "https://localhost:8080/"
        },
        "id": "qfHdTIdSdj3R",
        "outputId": "44470b44-bac3-4e45-ea82-ef32f629bf50"
      },
      "execution_count": null,
      "outputs": [
        {
          "output_type": "execute_result",
          "data": {
            "text/plain": [
              "27"
            ]
          },
          "metadata": {},
          "execution_count": 32
        }
      ]
    },
    {
      "cell_type": "code",
      "source": [
        "encoder_emb = Embedding(input_dim = eng_vocab_size, output_dim = emb_dim, mask_zero = True, name = \"encoder_embedding\")(encoder_input)\n",
        "encoder_emb"
      ],
      "metadata": {
        "colab": {
          "base_uri": "https://localhost:8080/"
        },
        "id": "oqMwqKA6Pj9F",
        "outputId": "b7286e7b-f610-4540-e6f7-f8de7c372f87"
      },
      "execution_count": null,
      "outputs": [
        {
          "output_type": "execute_result",
          "data": {
            "text/plain": [
              "<KerasTensor: shape=(None, 22, 100) dtype=float32 (created by layer 'encoder_embedding')>"
            ]
          },
          "metadata": {},
          "execution_count": 33
        }
      ]
    },
    {
      "cell_type": "code",
      "source": [
        "encoder_outputs, forward_h, forward_c, backward_h, backward_c = Bidirectional(LSTM(units = latent_dim, return_state = True, return_sequences = True), name = \"bilstm\") (encoder_emb)"
      ],
      "metadata": {
        "id": "HiVK-piIeAI4"
      },
      "execution_count": null,
      "outputs": []
    },
    {
      "cell_type": "code",
      "source": [
        "encoder_outputs.shape, forward_h.shape, forward_c.shape, backward_h.shape, backward_c.shape"
      ],
      "metadata": {
        "colab": {
          "base_uri": "https://localhost:8080/"
        },
        "id": "TruPsxKCn3aq",
        "outputId": "8db16478-4b37-460d-ba36-34a26de51acf"
      },
      "execution_count": null,
      "outputs": [
        {
          "output_type": "execute_result",
          "data": {
            "text/plain": [
              "(TensorShape([None, 22, 128]),\n",
              " TensorShape([None, 64]),\n",
              " TensorShape([None, 64]),\n",
              " TensorShape([None, 64]),\n",
              " TensorShape([None, 64]))"
            ]
          },
          "metadata": {},
          "execution_count": 35
        }
      ]
    },
    {
      "cell_type": "code",
      "source": [
        "encoder_h = Concatenate(axis = -1, name = \"concat_h\")([forward_h, backward_h])\n",
        "encoder_c = Concatenate(axis = -1, name = \"concat_c\")([forward_c, backward_c])\n",
        "encoder_h.shape, encoder_c.shape\n"
      ],
      "metadata": {
        "colab": {
          "base_uri": "https://localhost:8080/"
        },
        "id": "Cwfpr4_joNSc",
        "outputId": "ee4afb72-6152-45f2-8917-0460c4dca452"
      },
      "execution_count": null,
      "outputs": [
        {
          "output_type": "execute_result",
          "data": {
            "text/plain": [
              "(TensorShape([None, 128]), TensorShape([None, 128]))"
            ]
          },
          "metadata": {},
          "execution_count": 36
        }
      ]
    },
    {
      "cell_type": "code",
      "source": [
        "encoder_states = [encoder_h, encoder_c]\n",
        "encoder_states"
      ],
      "metadata": {
        "colab": {
          "base_uri": "https://localhost:8080/"
        },
        "id": "SK6xORcUpUfJ",
        "outputId": "075650a8-cf98-4b1a-eb17-ebdb72916af3"
      },
      "execution_count": null,
      "outputs": [
        {
          "output_type": "execute_result",
          "data": {
            "text/plain": [
              "[<KerasTensor: shape=(None, 128) dtype=float32 (created by layer 'concat_h')>,\n",
              " <KerasTensor: shape=(None, 128) dtype=float32 (created by layer 'concat_c')>]"
            ]
          },
          "metadata": {},
          "execution_count": 37
        }
      ]
    },
    {
      "cell_type": "markdown",
      "source": [
        "## Decoder"
      ],
      "metadata": {
        "id": "qzy2O3iFpmsp"
      }
    },
    {
      "cell_type": "code",
      "source": [
        "decoder_input = keras.Input(shape = (max_decoder_length,), name = \"decoder_input\")\n",
        "decoder_input"
      ],
      "metadata": {
        "colab": {
          "base_uri": "https://localhost:8080/"
        },
        "id": "y_A3e-cgpfkb",
        "outputId": "ce1de31b-9945-4f22-d74c-b12adc51bd38"
      },
      "execution_count": null,
      "outputs": [
        {
          "output_type": "execute_result",
          "data": {
            "text/plain": [
              "<KerasTensor: shape=(None, 20) dtype=float32 (created by layer 'decoder_input')>"
            ]
          },
          "metadata": {},
          "execution_count": 38
        }
      ]
    },
    {
      "cell_type": "code",
      "source": [
        "decoder_emb = Embedding(input_dim = mm_vocab_size, output_dim = emb_dim, mask_zero = True, name = \"decoder_embedding\")(decoder_input)\n",
        "decoder_emb"
      ],
      "metadata": {
        "colab": {
          "base_uri": "https://localhost:8080/"
        },
        "id": "d0cm5_u4qM_q",
        "outputId": "74d4ee54-7991-4dec-959b-db34e2d133be"
      },
      "execution_count": null,
      "outputs": [
        {
          "output_type": "execute_result",
          "data": {
            "text/plain": [
              "<KerasTensor: shape=(None, 20, 100) dtype=float32 (created by layer 'decoder_embedding')>"
            ]
          },
          "metadata": {},
          "execution_count": 39
        }
      ]
    },
    {
      "cell_type": "code",
      "source": [
        "decoder_output, decoder_h, decoder_c = LSTM(units = encoder_h.shape[1], return_sequences = True, return_state = True, name = \"decoder_lstm\")(decoder_emb, initial_state = encoder_states)\n"
      ],
      "metadata": {
        "id": "Ze9VIU5qqvO6"
      },
      "execution_count": null,
      "outputs": []
    },
    {
      "cell_type": "code",
      "source": [
        "decoder_output.shape, decoder_h.shape, decoder_c.shape"
      ],
      "metadata": {
        "colab": {
          "base_uri": "https://localhost:8080/"
        },
        "id": "b3Ca8fmhrZv6",
        "outputId": "26d4456b-5e49-4526-910a-e96497180659"
      },
      "execution_count": null,
      "outputs": [
        {
          "output_type": "execute_result",
          "data": {
            "text/plain": [
              "(TensorShape([None, 20, 128]),\n",
              " TensorShape([None, 128]),\n",
              " TensorShape([None, 128]))"
            ]
          },
          "metadata": {},
          "execution_count": 41
        }
      ]
    },
    {
      "cell_type": "markdown",
      "source": [
        "### Attention"
      ],
      "metadata": {
        "id": "7NgjX_PAsBbA"
      }
    },
    {
      "cell_type": "code",
      "source": [
        "attention = Attention()"
      ],
      "metadata": {
        "id": "zVF-dU42rq7a"
      },
      "execution_count": null,
      "outputs": []
    },
    {
      "cell_type": "code",
      "source": [
        "context_vector = attention(inputs = [decoder_output, encoder_outputs])"
      ],
      "metadata": {
        "id": "V5jFxVvqr60J"
      },
      "execution_count": null,
      "outputs": []
    },
    {
      "cell_type": "code",
      "source": [
        "context_vector"
      ],
      "metadata": {
        "colab": {
          "base_uri": "https://localhost:8080/"
        },
        "id": "l-pjaiM3ssr7",
        "outputId": "4037a59a-7f05-47df-d1e2-fb99f6eaaf48"
      },
      "execution_count": null,
      "outputs": [
        {
          "output_type": "execute_result",
          "data": {
            "text/plain": [
              "<KerasTensor: shape=(None, 20, 128) dtype=float32 (created by layer 'attention')>"
            ]
          },
          "metadata": {},
          "execution_count": 44
        }
      ]
    },
    {
      "cell_type": "code",
      "source": [
        "concatenated_outputs = Concatenate(axis = -1)([context_vector, decoder_output])"
      ],
      "metadata": {
        "id": "CLf7dshAsyJK"
      },
      "execution_count": null,
      "outputs": []
    },
    {
      "cell_type": "code",
      "source": [
        "concatenated_outputs.shape"
      ],
      "metadata": {
        "colab": {
          "base_uri": "https://localhost:8080/"
        },
        "id": "eZP-TAx5tGpJ",
        "outputId": "f248e686-36ea-447e-811d-8b1416c50605"
      },
      "execution_count": null,
      "outputs": [
        {
          "output_type": "execute_result",
          "data": {
            "text/plain": [
              "TensorShape([None, 20, 256])"
            ]
          },
          "metadata": {},
          "execution_count": 46
        }
      ]
    },
    {
      "cell_type": "code",
      "source": [
        "decoder_dense = Dense(mm_vocab_size, name = \"decoder_dense\", activation = \"softmax\")\n",
        "decoder_output = decoder_dense(concatenated_outputs)\n",
        "decoder_output"
      ],
      "metadata": {
        "colab": {
          "base_uri": "https://localhost:8080/"
        },
        "id": "D2KK1Ql3tJhZ",
        "outputId": "23eda599-2ca0-4ff1-9475-69e5a794f536"
      },
      "execution_count": null,
      "outputs": [
        {
          "output_type": "execute_result",
          "data": {
            "text/plain": [
              "<KerasTensor: shape=(None, 20, 47) dtype=float32 (created by layer 'decoder_dense')>"
            ]
          },
          "metadata": {},
          "execution_count": 47
        }
      ]
    },
    {
      "cell_type": "markdown",
      "source": [
        "## Building Model"
      ],
      "metadata": {
        "id": "nM3G05tWzqKv"
      }
    },
    {
      "cell_type": "code",
      "source": [
        "model = keras.Model(inputs = [encoder_input, decoder_input], outputs = decoder_output)"
      ],
      "metadata": {
        "id": "y3MNw8J5vwFI"
      },
      "execution_count": null,
      "outputs": []
    },
    {
      "cell_type": "code",
      "source": [
        "model = keras.Model([encoder_input, decoder_input], decoder_output)\n",
        "loss = tf.keras.losses.SparseCategoricalCrossentropy()\n",
        "optimizer = tf.keras.optimizers.Adam(learning_rate=0.01)\n",
        "\n",
        "model.compile(optimizer=optimizer, loss=loss, metrics=[\"accuracy\"])\n",
        "model.summary()"
      ],
      "metadata": {
        "colab": {
          "base_uri": "https://localhost:8080/"
        },
        "id": "d91rgWOhw_sr",
        "outputId": "d8de55f4-731f-4225-a5b7-96ed914a5edf"
      },
      "execution_count": null,
      "outputs": [
        {
          "output_type": "stream",
          "name": "stdout",
          "text": [
            "Model: \"model_1\"\n",
            "__________________________________________________________________________________________________\n",
            " Layer (type)                Output Shape                 Param #   Connected to                  \n",
            "==================================================================================================\n",
            " encoder_input (InputLayer)  [(None, 22)]                 0         []                            \n",
            "                                                                                                  \n",
            " encoder_embedding (Embeddi  (None, 22, 100)              2700      ['encoder_input[0][0]']       \n",
            " ng)                                                                                              \n",
            "                                                                                                  \n",
            " decoder_input (InputLayer)  [(None, 20)]                 0         []                            \n",
            "                                                                                                  \n",
            " bilstm (Bidirectional)      [(None, 22, 128),            84480     ['encoder_embedding[0][0]']   \n",
            "                              (None, 64),                                                         \n",
            "                              (None, 64),                                                         \n",
            "                              (None, 64),                                                         \n",
            "                              (None, 64)]                                                         \n",
            "                                                                                                  \n",
            " decoder_embedding (Embeddi  (None, 20, 100)              4700      ['decoder_input[0][0]']       \n",
            " ng)                                                                                              \n",
            "                                                                                                  \n",
            " concat_h (Concatenate)      (None, 128)                  0         ['bilstm[0][1]',              \n",
            "                                                                     'bilstm[0][3]']              \n",
            "                                                                                                  \n",
            " concat_c (Concatenate)      (None, 128)                  0         ['bilstm[0][2]',              \n",
            "                                                                     'bilstm[0][4]']              \n",
            "                                                                                                  \n",
            " decoder_lstm (LSTM)         [(None, 20, 128),            117248    ['decoder_embedding[0][0]',   \n",
            "                              (None, 128),                           'concat_h[0][0]',            \n",
            "                              (None, 128)]                           'concat_c[0][0]']            \n",
            "                                                                                                  \n",
            " attention (Attention)       (None, 20, 128)              0         ['decoder_lstm[0][0]',        \n",
            "                                                                     'bilstm[0][0]']              \n",
            "                                                                                                  \n",
            " concatenate (Concatenate)   (None, 20, 256)              0         ['attention[0][0]',           \n",
            "                                                                     'decoder_lstm[0][0]']        \n",
            "                                                                                                  \n",
            " decoder_dense (Dense)       (None, 20, 47)               12079     ['concatenate[0][0]']         \n",
            "                                                                                                  \n",
            "==================================================================================================\n",
            "Total params: 221207 (864.09 KB)\n",
            "Trainable params: 221207 (864.09 KB)\n",
            "Non-trainable params: 0 (0.00 Byte)\n",
            "__________________________________________________________________________________________________\n"
          ]
        }
      ]
    },
    {
      "cell_type": "code",
      "source": [
        "plot_model(model, show_shapes = True, to_file = \"model.jpg\")"
      ],
      "metadata": {
        "colab": {
          "base_uri": "https://localhost:8080/",
          "height": 54
        },
        "id": "sJzWEiL2xNq5",
        "outputId": "e164926c-a348-49bd-b086-9361d1261aa5"
      },
      "execution_count": null,
      "outputs": [
        {
          "output_type": "execute_result",
          "data": {
            "image/jpeg": "[encoded data removed]",
            "text/plain": [
              "<IPython.core.display.Image object>"
            ]
          },
          "metadata": {},
          "execution_count": 50
        }
      ]
    },
    {
      "cell_type": "markdown",
      "source": [
        "# Training Model"
      ],
      "metadata": {
        "id": "ak0HsCE0zxc5"
      }
    },
    {
      "cell_type": "code",
      "source": [
        "from keras.callbacks import EarlyStopping\n",
        "\n",
        "es = EarlyStopping(monitor='val_loss', mode='min', verbose=1, patience=50)\n"
      ],
      "metadata": {
        "id": "GqFKuZE64U-D"
      },
      "execution_count": null,
      "outputs": []
    },
    {
      "cell_type": "code",
      "source": [
        "batch_size = 30\n",
        "epochs = 500\n",
        "\n",
        "\n",
        "history = model.fit(\n",
        "    [eng_padded, decoder_input_padded],\n",
        "    decoder_output_padded,\n",
        "    batch_size=batch_size,\n",
        "    epochs=epochs,\n",
        "    validation_split=0.2,\n",
        "    callbacks=[es]\n",
        ")\n",
        "\n",
        "model.save(\"/content/drive/MyDrive/Meitei_Mayek/final_mm_eng_bi_attention.h5\")"
      ],
      "metadata": {
        "colab": {
          "base_uri": "https://localhost:8080/"
        },
        "id": "CQt4Jyx-zHVY",
        "outputId": "c026b44c-5ce5-4e2d-88df-41b890cd9d13"
      },
      "execution_count": null,
      "outputs": [
        {
          "output_type": "stream",
          "name": "stdout",
          "text": [
            "Epoch 1/500\n",
            "269/269 [==============================] - 8s 29ms/step - loss: 0.0840 - accuracy: 0.9739 - val_loss: 0.1872 - val_accuracy: 0.9459\n",
            "Epoch 2/500\n",
            "269/269 [==============================] - 7s 27ms/step - loss: 0.0909 - accuracy: 0.9725 - val_loss: 0.1745 - val_accuracy: 0.9466\n",
            "Epoch 3/500\n",
            "269/269 [==============================] - 7s 24ms/step - loss: 0.0805 - accuracy: 0.9756 - val_loss: 0.1836 - val_accuracy: 0.9438\n",
            "Epoch 4/500\n",
            "269/269 [==============================] - 6s 23ms/step - loss: 0.0741 - accuracy: 0.9768 - val_loss: 0.1819 - val_accuracy: 0.9469\n",
            "Epoch 5/500\n",
            "269/269 [==============================] - 5s 19ms/step - loss: 0.0708 - accuracy: 0.9773 - val_loss: 0.1771 - val_accuracy: 0.9469\n",
            "Epoch 6/500\n",
            "269/269 [==============================] - 8s 29ms/step - loss: 0.0698 - accuracy: 0.9781 - val_loss: 0.1937 - val_accuracy: 0.9457\n",
            "Epoch 7/500\n",
            "269/269 [==============================] - 6s 23ms/step - loss: 0.0660 - accuracy: 0.9795 - val_loss: 0.1720 - val_accuracy: 0.9510\n",
            "Epoch 8/500\n",
            "269/269 [==============================] - 7s 25ms/step - loss: 0.0647 - accuracy: 0.9797 - val_loss: 0.1867 - val_accuracy: 0.9475\n",
            "Epoch 9/500\n",
            "269/269 [==============================] - 7s 24ms/step - loss: 0.0815 - accuracy: 0.9751 - val_loss: 0.2000 - val_accuracy: 0.9431\n",
            "Epoch 10/500\n",
            "269/269 [==============================] - 5s 19ms/step - loss: 0.0771 - accuracy: 0.9761 - val_loss: 0.1969 - val_accuracy: 0.9460\n",
            "Epoch 11/500\n",
            "269/269 [==============================] - 8s 30ms/step - loss: 0.0805 - accuracy: 0.9758 - val_loss: 0.2158 - val_accuracy: 0.9412\n",
            "Epoch 12/500\n",
            "269/269 [==============================] - 9s 35ms/step - loss: 0.0770 - accuracy: 0.9757 - val_loss: 0.1874 - val_accuracy: 0.9485\n",
            "Epoch 13/500\n",
            "269/269 [==============================] - 7s 24ms/step - loss: 0.0615 - accuracy: 0.9803 - val_loss: 0.1707 - val_accuracy: 0.9519\n",
            "Epoch 14/500\n",
            "269/269 [==============================] - 7s 25ms/step - loss: 0.0514 - accuracy: 0.9832 - val_loss: 0.1750 - val_accuracy: 0.9529\n",
            "Epoch 15/500\n",
            "269/269 [==============================] - 5s 20ms/step - loss: 0.0541 - accuracy: 0.9828 - val_loss: 0.1897 - val_accuracy: 0.9478\n",
            "Epoch 16/500\n",
            "269/269 [==============================] - 8s 30ms/step - loss: 0.0683 - accuracy: 0.9786 - val_loss: 0.2090 - val_accuracy: 0.9460\n",
            "Epoch 17/500\n",
            "269/269 [==============================] - 5s 19ms/step - loss: 0.0648 - accuracy: 0.9802 - val_loss: 0.1976 - val_accuracy: 0.9449\n",
            "Epoch 18/500\n",
            "269/269 [==============================] - 9s 33ms/step - loss: 0.0647 - accuracy: 0.9795 - val_loss: 0.1939 - val_accuracy: 0.9467\n",
            "Epoch 19/500\n",
            "269/269 [==============================] - 6s 23ms/step - loss: 0.0635 - accuracy: 0.9801 - val_loss: 0.2354 - val_accuracy: 0.9413\n",
            "Epoch 20/500\n",
            "269/269 [==============================] - 5s 20ms/step - loss: 0.0643 - accuracy: 0.9801 - val_loss: 0.1921 - val_accuracy: 0.9490\n",
            "Epoch 21/500\n",
            "269/269 [==============================] - 8s 31ms/step - loss: 0.0624 - accuracy: 0.9806 - val_loss: 0.1976 - val_accuracy: 0.9478\n",
            "Epoch 22/500\n",
            "269/269 [==============================] - 5s 19ms/step - loss: 0.0576 - accuracy: 0.9819 - val_loss: 0.2194 - val_accuracy: 0.9451\n",
            "Epoch 23/500\n",
            "269/269 [==============================] - 8s 28ms/step - loss: 0.0554 - accuracy: 0.9824 - val_loss: 0.2318 - val_accuracy: 0.9418\n",
            "Epoch 24/500\n",
            "269/269 [==============================] - 7s 28ms/step - loss: 0.0643 - accuracy: 0.9807 - val_loss: 0.2270 - val_accuracy: 0.9412\n",
            "Epoch 25/500\n",
            "269/269 [==============================] - 5s 18ms/step - loss: 0.0737 - accuracy: 0.9777 - val_loss: 0.2142 - val_accuracy: 0.9461\n",
            "Epoch 26/500\n",
            "269/269 [==============================] - 7s 25ms/step - loss: 0.0627 - accuracy: 0.9808 - val_loss: 0.1853 - val_accuracy: 0.9522\n",
            "Epoch 27/500\n",
            "269/269 [==============================] - 6s 23ms/step - loss: 0.0524 - accuracy: 0.9831 - val_loss: 0.2245 - val_accuracy: 0.9449\n",
            "Epoch 28/500\n",
            "269/269 [==============================] - 5s 20ms/step - loss: 0.0494 - accuracy: 0.9843 - val_loss: 0.2184 - val_accuracy: 0.9464\n",
            "Epoch 29/500\n",
            "269/269 [==============================] - 9s 35ms/step - loss: 0.0565 - accuracy: 0.9825 - val_loss: 0.2321 - val_accuracy: 0.9426\n",
            "Epoch 30/500\n",
            "269/269 [==============================] - 5s 20ms/step - loss: 0.0731 - accuracy: 0.9788 - val_loss: 0.2112 - val_accuracy: 0.9479\n",
            "Epoch 31/500\n",
            "269/269 [==============================] - 6s 21ms/step - loss: 0.0656 - accuracy: 0.9800 - val_loss: 0.2279 - val_accuracy: 0.9431\n",
            "Epoch 32/500\n",
            "269/269 [==============================] - 8s 29ms/step - loss: 0.0591 - accuracy: 0.9818 - val_loss: 0.2420 - val_accuracy: 0.9438\n",
            "Epoch 33/500\n",
            "269/269 [==============================] - 5s 19ms/step - loss: 0.0571 - accuracy: 0.9821 - val_loss: 0.2014 - val_accuracy: 0.9477\n",
            "Epoch 34/500\n",
            "269/269 [==============================] - 8s 31ms/step - loss: 0.0498 - accuracy: 0.9840 - val_loss: 0.2538 - val_accuracy: 0.9423\n",
            "Epoch 35/500\n",
            "269/269 [==============================] - 7s 25ms/step - loss: 0.0538 - accuracy: 0.9833 - val_loss: 0.2273 - val_accuracy: 0.9469\n",
            "Epoch 36/500\n",
            "269/269 [==============================] - 5s 19ms/step - loss: 0.0496 - accuracy: 0.9840 - val_loss: 0.2372 - val_accuracy: 0.9451\n",
            "Epoch 37/500\n",
            "269/269 [==============================] - 8s 30ms/step - loss: 0.0521 - accuracy: 0.9839 - val_loss: 0.2264 - val_accuracy: 0.9442\n",
            "Epoch 38/500\n",
            "269/269 [==============================] - 5s 20ms/step - loss: 0.0557 - accuracy: 0.9824 - val_loss: 0.2293 - val_accuracy: 0.9446\n",
            "Epoch 39/500\n",
            "269/269 [==============================] - 6s 24ms/step - loss: 0.0552 - accuracy: 0.9823 - val_loss: 0.2237 - val_accuracy: 0.9455\n",
            "Epoch 40/500\n",
            "269/269 [==============================] - 8s 31ms/step - loss: 0.0592 - accuracy: 0.9814 - val_loss: 0.2218 - val_accuracy: 0.9467\n",
            "Epoch 41/500\n",
            "269/269 [==============================] - 5s 19ms/step - loss: 0.0554 - accuracy: 0.9828 - val_loss: 0.2158 - val_accuracy: 0.9473\n",
            "Epoch 42/500\n",
            "269/269 [==============================] - 6s 21ms/step - loss: 0.0579 - accuracy: 0.9826 - val_loss: 0.2450 - val_accuracy: 0.9426\n",
            "Epoch 43/500\n",
            "269/269 [==============================] - 7s 26ms/step - loss: 0.0580 - accuracy: 0.9817 - val_loss: 0.2189 - val_accuracy: 0.9475\n",
            "Epoch 44/500\n",
            "269/269 [==============================] - 5s 19ms/step - loss: 0.0590 - accuracy: 0.9825 - val_loss: 0.2287 - val_accuracy: 0.9461\n",
            "Epoch 45/500\n",
            "269/269 [==============================] - 8s 28ms/step - loss: 0.0585 - accuracy: 0.9819 - val_loss: 0.2342 - val_accuracy: 0.9436\n",
            "Epoch 46/500\n",
            "269/269 [==============================] - 7s 26ms/step - loss: 0.0494 - accuracy: 0.9844 - val_loss: 0.2231 - val_accuracy: 0.9470\n",
            "Epoch 47/500\n",
            "269/269 [==============================] - 5s 18ms/step - loss: 0.0498 - accuracy: 0.9841 - val_loss: 0.2384 - val_accuracy: 0.9430\n",
            "Epoch 48/500\n",
            "269/269 [==============================] - 7s 26ms/step - loss: 0.0531 - accuracy: 0.9836 - val_loss: 0.2289 - val_accuracy: 0.9459\n",
            "Epoch 49/500\n",
            "269/269 [==============================] - 6s 21ms/step - loss: 0.0536 - accuracy: 0.9829 - val_loss: 0.2270 - val_accuracy: 0.9451\n",
            "Epoch 50/500\n",
            "269/269 [==============================] - 5s 19ms/step - loss: 0.0613 - accuracy: 0.9810 - val_loss: 0.2789 - val_accuracy: 0.9407\n",
            "Epoch 51/500\n",
            "269/269 [==============================] - 8s 31ms/step - loss: 0.0734 - accuracy: 0.9775 - val_loss: 0.2822 - val_accuracy: 0.9390\n",
            "Epoch 52/500\n",
            "269/269 [==============================] - 6s 23ms/step - loss: 0.0697 - accuracy: 0.9785 - val_loss: 0.2398 - val_accuracy: 0.9420\n",
            "Epoch 53/500\n",
            "269/269 [==============================] - 9s 33ms/step - loss: 0.0685 - accuracy: 0.9798 - val_loss: 0.2353 - val_accuracy: 0.9431\n",
            "Epoch 54/500\n",
            "269/269 [==============================] - 7s 26ms/step - loss: 0.0556 - accuracy: 0.9827 - val_loss: 0.2449 - val_accuracy: 0.9436\n",
            "Epoch 55/500\n",
            "269/269 [==============================] - 5s 20ms/step - loss: 0.0566 - accuracy: 0.9831 - val_loss: 0.2424 - val_accuracy: 0.9438\n",
            "Epoch 56/500\n",
            "269/269 [==============================] - 8s 30ms/step - loss: 0.0468 - accuracy: 0.9844 - val_loss: 0.2434 - val_accuracy: 0.9443\n",
            "Epoch 57/500\n",
            "269/269 [==============================] - 7s 26ms/step - loss: 0.0456 - accuracy: 0.9853 - val_loss: 0.2428 - val_accuracy: 0.9454\n",
            "Epoch 58/500\n",
            "269/269 [==============================] - 5s 19ms/step - loss: 0.0553 - accuracy: 0.9830 - val_loss: 0.2584 - val_accuracy: 0.9392\n",
            "Epoch 59/500\n",
            "269/269 [==============================] - 8s 29ms/step - loss: 0.0502 - accuracy: 0.9842 - val_loss: 0.2527 - val_accuracy: 0.9436\n",
            "Epoch 60/500\n",
            "269/269 [==============================] - 5s 19ms/step - loss: 0.0491 - accuracy: 0.9846 - val_loss: 0.2560 - val_accuracy: 0.9419\n",
            "Epoch 61/500\n",
            "269/269 [==============================] - 5s 19ms/step - loss: 0.0477 - accuracy: 0.9850 - val_loss: 0.2555 - val_accuracy: 0.9438\n",
            "Epoch 62/500\n",
            "269/269 [==============================] - 10s 36ms/step - loss: 0.0542 - accuracy: 0.9834 - val_loss: 0.2803 - val_accuracy: 0.9385\n",
            "Epoch 63/500\n",
            "269/269 [==============================] - 5s 20ms/step - loss: 0.0652 - accuracy: 0.9801 - val_loss: 0.2678 - val_accuracy: 0.9403\n",
            "Epoch 63: early stopping\n"
          ]
        },
        {
          "output_type": "stream",
          "name": "stderr",
          "text": [
            "/usr/local/lib/python3.10/dist-packages/keras/src/engine/training.py:3079: UserWarning: You are saving your model as an HDF5 file via `model.save()`. This file format is considered legacy. We recommend using instead the native Keras format, e.g. `model.save('my_model.keras')`.\n",
            "  saving_api.save_model(\n"
          ]
        }
      ]
    },
    {
      "cell_type": "markdown",
      "source": [
        "###Loading model"
      ],
      "metadata": {
        "id": "dXWJsPhpPDB5"
      }
    },
    {
      "cell_type": "code",
      "source": [
        "model = tf.keras.models.load_model(\"/content/drive/MyDrive/Meitei_Mayek/final_mm_eng_bi_attention.h5\")\n",
        "model.summary()"
      ],
      "metadata": {
        "colab": {
          "base_uri": "https://localhost:8080/"
        },
        "id": "tDU77MY70dYM",
        "outputId": "4fad57f7-22bc-47e6-9f26-6b594d01fac0"
      },
      "execution_count": null,
      "outputs": [
        {
          "output_type": "stream",
          "name": "stdout",
          "text": [
            "Model: \"model_5\"\n",
            "__________________________________________________________________________________________________\n",
            " Layer (type)                Output Shape                 Param #   Connected to                  \n",
            "==================================================================================================\n",
            " encoder_input (InputLayer)  [(None, 22)]                 0         []                            \n",
            "                                                                                                  \n",
            " encoder_embedding (Embeddi  (None, 22, 100)              2700      ['encoder_input[0][0]']       \n",
            " ng)                                                                                              \n",
            "                                                                                                  \n",
            " decoder_input (InputLayer)  [(None, 20)]                 0         []                            \n",
            "                                                                                                  \n",
            " bilstm (Bidirectional)      [(None, 22, 128),            84480     ['encoder_embedding[0][0]']   \n",
            "                              (None, 64),                                                         \n",
            "                              (None, 64),                                                         \n",
            "                              (None, 64),                                                         \n",
            "                              (None, 64)]                                                         \n",
            "                                                                                                  \n",
            " decoder_embedding (Embeddi  (None, 20, 100)              4700      ['decoder_input[0][0]']       \n",
            " ng)                                                                                              \n",
            "                                                                                                  \n",
            " concat_h (Concatenate)      (None, 128)                  0         ['bilstm[0][1]',              \n",
            "                                                                     'bilstm[0][3]']              \n",
            "                                                                                                  \n",
            " concat_c (Concatenate)      (None, 128)                  0         ['bilstm[0][2]',              \n",
            "                                                                     'bilstm[0][4]']              \n",
            "                                                                                                  \n",
            " decoder_lstm (LSTM)         [(None, 20, 128),            117248    ['decoder_embedding[0][0]',   \n",
            "                              (None, 128),                           'concat_h[0][0]',            \n",
            "                              (None, 128)]                           'concat_c[0][0]']            \n",
            "                                                                                                  \n",
            " attention (Attention)       (None, 20, 128)              0         ['decoder_lstm[0][0]',        \n",
            "                                                                     'bilstm[0][0]']              \n",
            "                                                                                                  \n",
            " concatenate (Concatenate)   (None, 20, 256)              0         ['attention[0][0]',           \n",
            "                                                                     'decoder_lstm[0][0]']        \n",
            "                                                                                                  \n",
            " decoder_dense (Dense)       (None, 20, 47)               12079     ['concatenate[0][0]']         \n",
            "                                                                                                  \n",
            "==================================================================================================\n",
            "Total params: 221207 (864.09 KB)\n",
            "Trainable params: 221207 (864.09 KB)\n",
            "Non-trainable params: 0 (0.00 Byte)\n",
            "__________________________________________________________________________________________________\n"
          ]
        }
      ]
    },
    {
      "cell_type": "code",
      "source": [
        "plot_model(model, show_shapes = True, to_file = \"model.jpg\")"
      ],
      "metadata": {
        "colab": {
          "base_uri": "https://localhost:8080/",
          "height": 54
        },
        "id": "W8Q4rjwlOmqQ",
        "outputId": "ec43defe-f6a2-4edc-c7ca-a66d5050ca27"
      },
      "execution_count": null,
      "outputs": [
        {
          "output_type": "execute_result",
          "data": {
            "image/jpeg": "[encoded data removed]",
            "text/plain": [
              "<IPython.core.display.Image object>"
            ]
          },
          "metadata": {},
          "execution_count": 52
        }
      ]
    },
    {
      "cell_type": "markdown",
      "source": [
        "#Inference"
      ],
      "metadata": {
        "id": "TIDNBj0gPRLz"
      }
    },
    {
      "cell_type": "code",
      "source": [
        "inputs = model.get_layer('encoder_input').output\n",
        "bi_lstm_output, f_h, f_c, b_h, b_c = model.get_layer('bilstm').output\n"
      ],
      "metadata": {
        "id": "N3BMp_2tO8kx"
      },
      "execution_count": null,
      "outputs": []
    },
    {
      "cell_type": "code",
      "source": [
        "inputs.shape, bi_lstm_output.shape, f_h.shape, f_c.shape, b_h.shape, b_c.shape"
      ],
      "metadata": {
        "colab": {
          "base_uri": "https://localhost:8080/"
        },
        "id": "spyObL14P1Px",
        "outputId": "5c59d854-0e91-4ca3-c81b-27c6345e4330"
      },
      "execution_count": null,
      "outputs": [
        {
          "output_type": "execute_result",
          "data": {
            "text/plain": [
              "(TensorShape([None, 22]),\n",
              " TensorShape([None, 22, 128]),\n",
              " TensorShape([None, 64]),\n",
              " TensorShape([None, 64]),\n",
              " TensorShape([None, 64]),\n",
              " TensorShape([None, 64]))"
            ]
          },
          "metadata": {},
          "execution_count": 54
        }
      ]
    },
    {
      "cell_type": "code",
      "source": [
        "concat_h = model.get_layer('concat_h').output\n",
        "concat_c = model.get_layer('concat_c').output\n",
        "concat_h.shape, concat_c.shape"
      ],
      "metadata": {
        "colab": {
          "base_uri": "https://localhost:8080/"
        },
        "id": "kxtb6jMMP2Za",
        "outputId": "2a7087fa-a80a-4719-b900-0c3fc7a8152a"
      },
      "execution_count": null,
      "outputs": [
        {
          "output_type": "execute_result",
          "data": {
            "text/plain": [
              "(TensorShape([None, 128]), TensorShape([None, 128]))"
            ]
          },
          "metadata": {},
          "execution_count": 55
        }
      ]
    },
    {
      "cell_type": "markdown",
      "source": [
        "### Encoder"
      ],
      "metadata": {
        "id": "cvE-zUhxQr7L"
      }
    },
    {
      "cell_type": "code",
      "source": [
        "encoder = keras.Model(inputs = inputs, outputs = [bi_lstm_output, concat_h, concat_c])\n",
        "encoder.summary()"
      ],
      "metadata": {
        "colab": {
          "base_uri": "https://localhost:8080/"
        },
        "id": "mqNXMww1QOGR",
        "outputId": "caa4db3c-ad5f-4596-bfbf-163b10ca1ba2"
      },
      "execution_count": null,
      "outputs": [
        {
          "output_type": "stream",
          "name": "stdout",
          "text": [
            "Model: \"model_2\"\n",
            "__________________________________________________________________________________________________\n",
            " Layer (type)                Output Shape                 Param #   Connected to                  \n",
            "==================================================================================================\n",
            " encoder_input (InputLayer)  [(None, 22)]                 0         []                            \n",
            "                                                                                                  \n",
            " encoder_embedding (Embeddi  (None, 22, 100)              2700      ['encoder_input[0][0]']       \n",
            " ng)                                                                                              \n",
            "                                                                                                  \n",
            " bilstm (Bidirectional)      [(None, 22, 128),            84480     ['encoder_embedding[0][0]']   \n",
            "                              (None, 64),                                                         \n",
            "                              (None, 64),                                                         \n",
            "                              (None, 64),                                                         \n",
            "                              (None, 64)]                                                         \n",
            "                                                                                                  \n",
            " concat_h (Concatenate)      (None, 128)                  0         ['bilstm[0][1]',              \n",
            "                                                                     'bilstm[0][3]']              \n",
            "                                                                                                  \n",
            " concat_c (Concatenate)      (None, 128)                  0         ['bilstm[0][2]',              \n",
            "                                                                     'bilstm[0][4]']              \n",
            "                                                                                                  \n",
            "==================================================================================================\n",
            "Total params: 87180 (340.55 KB)\n",
            "Trainable params: 87180 (340.55 KB)\n",
            "Non-trainable params: 0 (0.00 Byte)\n",
            "__________________________________________________________________________________________________\n"
          ]
        }
      ]
    },
    {
      "cell_type": "code",
      "source": [
        "plot_model(encoder, show_shapes = True, to_file = 'encoder.jpg')"
      ],
      "metadata": {
        "colab": {
          "base_uri": "https://localhost:8080/",
          "height": 54
        },
        "id": "JnC06TrZQfsx",
        "outputId": "0b281d4f-6694-4f7c-9afc-c864dbc182fb"
      },
      "execution_count": null,
      "outputs": [
        {
          "output_type": "execute_result",
          "data": {
            "image/jpeg": "[encoded data removed]",
            "text/plain": [
              "<IPython.core.display.Image object>"
            ]
          },
          "metadata": {},
          "execution_count": 57
        }
      ]
    },
    {
      "cell_type": "markdown",
      "source": [
        "### Decoder"
      ],
      "metadata": {
        "id": "fCuqjXXCRBgk"
      }
    },
    {
      "cell_type": "code",
      "source": [
        "decoder_input_encoder_seq = Input(shape = (22, 128))\n",
        "decoder_input_h1 = Input(shape = (128,))\n",
        "decoder_input_c1 = Input(shape = (128,))"
      ],
      "metadata": {
        "id": "rr4fEx52Qkxy"
      },
      "execution_count": null,
      "outputs": []
    },
    {
      "cell_type": "code",
      "source": [
        "decoder_inputs = model.get_layer('decoder_input').output\n",
        "embedding_layer = model.get_layer('decoder_embedding')\n",
        "decoder_lstm = model.get_layer('decoder_lstm')\n",
        "attention = model.get_layer('attention')"
      ],
      "metadata": {
        "id": "Hwdh5lO0RXEQ"
      },
      "execution_count": null,
      "outputs": []
    },
    {
      "cell_type": "code",
      "source": [
        "decoder_embed = embedding_layer(decoder_inputs)\n",
        "decoder_embed.shape"
      ],
      "metadata": {
        "colab": {
          "base_uri": "https://localhost:8080/"
        },
        "id": "JjV_wDbRSbh-",
        "outputId": "2b41d48a-0b25-4aed-8ca0-76ccc94e74a5"
      },
      "execution_count": null,
      "outputs": [
        {
          "output_type": "execute_result",
          "data": {
            "text/plain": [
              "TensorShape([None, 20, 100])"
            ]
          },
          "metadata": {},
          "execution_count": 60
        }
      ]
    },
    {
      "cell_type": "code",
      "source": [
        "decoder_lstm_out, decoder_out_h, decoder_out_c = decoder_lstm(decoder_embed, initial_state = [decoder_input_h1, decoder_input_c1])"
      ],
      "metadata": {
        "id": "wTOI4iK5Sopw"
      },
      "execution_count": null,
      "outputs": []
    },
    {
      "cell_type": "code",
      "source": [
        "decoder_lstm_out.shape, decoder_out_h.shape, decoder_out_c.shape"
      ],
      "metadata": {
        "colab": {
          "base_uri": "https://localhost:8080/"
        },
        "id": "LbhhbfqVS60R",
        "outputId": "766559c2-51d4-4768-ad4a-db95c2f38530"
      },
      "execution_count": null,
      "outputs": [
        {
          "output_type": "execute_result",
          "data": {
            "text/plain": [
              "(TensorShape([None, 20, 128]),\n",
              " TensorShape([None, 128]),\n",
              " TensorShape([None, 128]))"
            ]
          },
          "metadata": {},
          "execution_count": 62
        }
      ]
    },
    {
      "cell_type": "code",
      "source": [
        "attention_output = attention([decoder_lstm_out, decoder_input_encoder_seq])\n",
        "attention_output.shape"
      ],
      "metadata": {
        "colab": {
          "base_uri": "https://localhost:8080/"
        },
        "id": "w-u-_zPFTCkC",
        "outputId": "d7ceaa2b-5bb4-4438-99a0-9141d36a3489"
      },
      "execution_count": null,
      "outputs": [
        {
          "output_type": "execute_result",
          "data": {
            "text/plain": [
              "TensorShape([None, 20, 128])"
            ]
          },
          "metadata": {},
          "execution_count": 63
        }
      ]
    },
    {
      "cell_type": "code",
      "source": [
        "concat_cv = model.get_layer('concatenate')"
      ],
      "metadata": {
        "id": "x72Xlv-GTWkS"
      },
      "execution_count": null,
      "outputs": []
    },
    {
      "cell_type": "code",
      "source": [
        "x= concat_cv([attention_output, decoder_lstm_out])"
      ],
      "metadata": {
        "id": "qXPFQBHyThby"
      },
      "execution_count": null,
      "outputs": []
    },
    {
      "cell_type": "code",
      "source": [
        "x"
      ],
      "metadata": {
        "colab": {
          "base_uri": "https://localhost:8080/"
        },
        "id": "shD5q57-Tqdw",
        "outputId": "10e65f23-2c67-4ca8-ce12-b197c3b36051"
      },
      "execution_count": null,
      "outputs": [
        {
          "output_type": "execute_result",
          "data": {
            "text/plain": [
              "<KerasTensor: shape=(None, 20, 256) dtype=float32 (created by layer 'concatenate')>"
            ]
          },
          "metadata": {},
          "execution_count": 66
        }
      ]
    },
    {
      "cell_type": "code",
      "source": [
        "dense = model.get_layer('decoder_dense')"
      ],
      "metadata": {
        "id": "WKRMKLxITsvg"
      },
      "execution_count": null,
      "outputs": []
    },
    {
      "cell_type": "code",
      "source": [
        "x = dense(x)"
      ],
      "metadata": {
        "id": "BDdorIINT1tx"
      },
      "execution_count": null,
      "outputs": []
    },
    {
      "cell_type": "code",
      "source": [
        "x"
      ],
      "metadata": {
        "colab": {
          "base_uri": "https://localhost:8080/"
        },
        "id": "NjKfBiCET4Dg",
        "outputId": "2a48dcc2-4879-400e-b770-e1a1a57d3979"
      },
      "execution_count": null,
      "outputs": [
        {
          "output_type": "execute_result",
          "data": {
            "text/plain": [
              "<KerasTensor: shape=(None, 20, 47) dtype=float32 (created by layer 'decoder_dense')>"
            ]
          },
          "metadata": {},
          "execution_count": 69
        }
      ]
    },
    {
      "cell_type": "code",
      "source": [
        "dec_in = [decoder_inputs] + [decoder_input_encoder_seq, decoder_input_h1, decoder_input_c1]"
      ],
      "metadata": {
        "id": "V8CNLC9pULBC"
      },
      "execution_count": null,
      "outputs": []
    },
    {
      "cell_type": "code",
      "source": [
        "dec_out = [x] + [decoder_out_h, decoder_out_c]"
      ],
      "metadata": {
        "id": "kiZU0XaOUSUq"
      },
      "execution_count": null,
      "outputs": []
    },
    {
      "cell_type": "code",
      "source": [
        "decoder = keras.Model(inputs = dec_in, outputs = dec_out)\n",
        "decoder.summary()"
      ],
      "metadata": {
        "colab": {
          "base_uri": "https://localhost:8080/"
        },
        "id": "RBGkBZkXT5Zg",
        "outputId": "8b55e9ff-de4a-47e9-fb42-8ee3236681dc"
      },
      "execution_count": null,
      "outputs": [
        {
          "output_type": "stream",
          "name": "stdout",
          "text": [
            "Model: \"model_3\"\n",
            "__________________________________________________________________________________________________\n",
            " Layer (type)                Output Shape                 Param #   Connected to                  \n",
            "==================================================================================================\n",
            " decoder_input (InputLayer)  [(None, 20)]                 0         []                            \n",
            "                                                                                                  \n",
            " decoder_embedding (Embeddi  (None, 20, 100)              4700      ['decoder_input[0][0]']       \n",
            " ng)                                                                                              \n",
            "                                                                                                  \n",
            " input_2 (InputLayer)        [(None, 128)]                0         []                            \n",
            "                                                                                                  \n",
            " input_3 (InputLayer)        [(None, 128)]                0         []                            \n",
            "                                                                                                  \n",
            " decoder_lstm (LSTM)         [(None, 20, 128),            117248    ['decoder_embedding[1][0]',   \n",
            "                              (None, 128),                           'input_2[0][0]',             \n",
            "                              (None, 128)]                           'input_3[0][0]']             \n",
            "                                                                                                  \n",
            " input_1 (InputLayer)        [(None, 22, 128)]            0         []                            \n",
            "                                                                                                  \n",
            " attention (Attention)       (None, 20, 128)              0         ['decoder_lstm[1][0]',        \n",
            "                                                                     'input_1[0][0]']             \n",
            "                                                                                                  \n",
            " concatenate (Concatenate)   (None, 20, 256)              0         ['attention[1][0]',           \n",
            "                                                                     'decoder_lstm[1][0]']        \n",
            "                                                                                                  \n",
            " decoder_dense (Dense)       (None, 20, 47)               12079     ['concatenate[1][0]']         \n",
            "                                                                                                  \n",
            "==================================================================================================\n",
            "Total params: 134027 (523.54 KB)\n",
            "Trainable params: 134027 (523.54 KB)\n",
            "Non-trainable params: 0 (0.00 Byte)\n",
            "__________________________________________________________________________________________________\n"
          ]
        }
      ]
    },
    {
      "cell_type": "code",
      "source": [
        "plot_model(decoder, show_shapes = True, to_file = 'decoder.jpg')"
      ],
      "metadata": {
        "colab": {
          "base_uri": "https://localhost:8080/",
          "height": 54
        },
        "id": "EnH6W8G0UeRw",
        "outputId": "414b7c25-2ae7-4b9b-9c6b-94e0ac8fcc19"
      },
      "execution_count": null,
      "outputs": [
        {
          "output_type": "execute_result",
          "data": {
            "image/jpeg": "[encoded data removed]",
            "text/plain": [
              "<IPython.core.display.Image object>"
            ]
          },
          "metadata": {},
          "execution_count": 73
        }
      ]
    },
    {
      "cell_type": "markdown",
      "source": [
        "#Prediction"
      ],
      "metadata": {
        "id": "t56oOTkrU3E6"
      }
    },
    {
      "cell_type": "code",
      "source": [
        "reverse_input_char_index = dict((i, char) for char, i in eng_tokens.items())\n",
        "reverse_output_char_index = dict((i, char) for char, i in mm_tokens.items())"
      ],
      "metadata": {
        "id": "dw79541pUm_A"
      },
      "execution_count": null,
      "outputs": []
    },
    {
      "cell_type": "code",
      "source": [
        "print(reverse_input_char_index)"
      ],
      "metadata": {
        "colab": {
          "base_uri": "https://localhost:8080/"
        },
        "id": "bTfQ0GYEVNyA",
        "outputId": "204dfaa7-eec9-49b0-aa8d-343a81cec37c"
      },
      "execution_count": null,
      "outputs": [
        {
          "output_type": "stream",
          "name": "stdout",
          "text": [
            "{1: 'a', 2: 'i', 3: 'n', 4: 'h', 5: 'g', 6: 'k', 7: 'm', 8: 't', 9: 'o', 10: 'u', 11: 'e', 12: 'l', 13: 's', 14: 'p', 15: 'b', 16: 'r', 17: 'd', 18: 'c', 19: 'y', 20: 'w', 21: 'j', 22: 'f', 23: 'v', 24: 'z', 25: 'q', 26: 'x'}\n"
          ]
        }
      ]
    },
    {
      "cell_type": "code",
      "source": [
        "print(reverse_output_char_index)"
      ],
      "metadata": {
        "colab": {
          "base_uri": "https://localhost:8080/"
        },
        "id": "Wueu7vXRVSKQ",
        "outputId": "16ac392c-fb88-44db-b554-d8c861fb6638"
      },
      "execution_count": null,
      "outputs": [
        {
          "output_type": "stream",
          "name": "stdout",
          "text": [
            "{1: '\\t', 2: '\\n', 3: 'ꯤ', 4: 'ꯥ', 5: 'ꯅ', 6: 'ꯁ', 7: 'ꯕ', 8: 'ꯨ', 9: 'ꯔ', 10: 'ꯣ', 11: 'ꯂ', 12: 'ꯡ', 13: 'ꯗ', 14: 'ꯟ', 15: 'ꯃ', 16: 'ꯄ', 17: 'ꯒ', 18: 'ꯦ', 19: 'ꯝ', 20: 'ꯇ', 21: 'ꯛ', 22: 'ꯀ', 23: 'ꯈ', 24: 'ꯌ', 25: 'ꯊ', 26: 'ꯍ', 27: 'ꯆ', 28: 'ꯩ', 29: 'ꯑ', 30: 'ꯐ', 31: 'ꯠ', 32: 'ꯜ', 33: 'ꯢ', 34: 'ꯧ', 35: 'ꯏ', 36: 'ꯖ', 37: 'ꯋ', 38: '꯭', 39: 'ꯉ', 40: 'ꯎ', 41: 'ꯪ', 42: 'ꯞ', 43: 'ꯚ', 44: 'ꯓ', 45: 'ꯙ', 46: 'ꯘ'}\n"
          ]
        }
      ]
    },
    {
      "cell_type": "code",
      "source": [
        "def predict_list_of_words(list_source_words_in_padded_int_seq):\n",
        "  list_pred_words = []\n",
        "  start_token = np.zeros((1, 1))\n",
        "  start_token[0] = mm_tokenizer.word_index['\\t']\n",
        "  print(start_token)\n",
        "\n",
        "  for x in tqdm(range(len(list_source_words_in_padded_int_seq))):\n",
        "    source_seq = start_token\n",
        "    pred_word = ''\n",
        "    v = np.reshape(list_source_words_in_padded_int_seq[x], (1, -1))\n",
        "    en_out_seq,next_h, next_c = encoder.predict(v,verbose=0)\n",
        "    for i in range(max_decoder_length):\n",
        "      output, next_h, next_c = decoder.predict([source_seq] + [en_out_seq,next_h, next_c],verbose=0)\n",
        "      next_token = np.argmax(output[0, 0, :])\n",
        "      next_char = reverse_output_char_index[next_token]\n",
        "      if next_char == '\\n':\n",
        "        break\n",
        "      else:\n",
        "        pred_word += next_char\n",
        "        source_seq = np.zeros((1, 1))\n",
        "        source_seq[0] = next_token\n",
        "    list_pred_words.append(pred_word)\n",
        "  return list_pred_words"
      ],
      "metadata": {
        "id": "6FQJVJwTVUbf"
      },
      "execution_count": null,
      "outputs": []
    },
    {
      "cell_type": "markdown",
      "source": [
        "#Test"
      ],
      "metadata": {
        "id": "72YufUXRXzl8"
      }
    },
    {
      "cell_type": "markdown",
      "source": [
        "### Test Data Preparation"
      ],
      "metadata": {
        "id": "7yf7UkyAX2rp"
      }
    },
    {
      "cell_type": "code",
      "source": [
        "test_eng_words = test['english word']\n",
        "test_mm_words = test['native word']"
      ],
      "metadata": {
        "id": "oLyp2LxpXphR"
      },
      "execution_count": null,
      "outputs": []
    },
    {
      "cell_type": "code",
      "source": [
        "for i in range(10):\n",
        "  print(f\"{test_eng_words[i]} - {test_mm_words[i]}\")"
      ],
      "metadata": {
        "colab": {
          "base_uri": "https://localhost:8080/"
        },
        "id": "GQyVqZFgYi_R",
        "outputId": "d58b21d6-fe33-4624-df22-5eff982b01d1"
      },
      "execution_count": null,
      "outputs": [
        {
          "output_type": "stream",
          "name": "stdout",
          "text": [
            "yallaga - ꯌꯥꯜꯂꯒ\n",
            "sharuksing - ꯁꯔꯨꯛꯁꯤꯡ\n",
            "sakpa - ꯁꯛꯄ\n",
            "asini - ꯑꯁꯤꯅꯤ\n",
            "jebina - ꯖꯦꯕꯤꯅ\n",
            "mitana - ꯃꯤꯇꯅ\n",
            "anput - ꯑꯟꯄꯨꯠ\n",
            "hiyanggei - ꯍꯤꯌꯥꯡꯒꯩ\n",
            "thouninarammi - ꯊꯧꯅꯤꯅꯔꯝꯃꯤ\n",
            "hotnajaramba - ꯍꯣꯠꯅꯖꯔꯝꯕ\n"
          ]
        }
      ]
    },
    {
      "cell_type": "markdown",
      "source": [
        "### Tokenization"
      ],
      "metadata": {
        "id": "Yy59ybd3ZMJ8"
      }
    },
    {
      "cell_type": "code",
      "source": [
        "test_eng_words_in_ids = eng_tokenizer.texts_to_sequences(test_eng_words)\n",
        "test_mm_words_in_ids = mm_tokenizer.texts_to_sequences(test_mm_words)"
      ],
      "metadata": {
        "id": "esi1a_hGYtAU"
      },
      "execution_count": null,
      "outputs": []
    },
    {
      "cell_type": "code",
      "source": [
        "for i in range(10):\n",
        "  print(f\"{test_eng_words_in_ids[i]} ----- {test_mm_words_in_ids[i]}\")"
      ],
      "metadata": {
        "colab": {
          "base_uri": "https://localhost:8080/"
        },
        "id": "cOoVsY8bZAty",
        "outputId": "ba20653a-3967-45ad-fbc6-03a6c83a3169"
      },
      "execution_count": null,
      "outputs": [
        {
          "output_type": "stream",
          "name": "stdout",
          "text": [
            "[19, 1, 12, 12, 1, 5, 1] ----- [24, 4, 32, 11, 17]\n",
            "[13, 4, 1, 16, 10, 6, 13, 2, 3, 5] ----- [6, 9, 8, 21, 6, 3, 12]\n",
            "[13, 1, 6, 14, 1] ----- [6, 21, 16]\n",
            "[1, 13, 2, 3, 2] ----- [29, 6, 3, 5, 3]\n",
            "[21, 11, 15, 2, 3, 1] ----- [36, 18, 7, 3, 5]\n",
            "[7, 2, 8, 1, 3, 1] ----- [15, 3, 20, 5]\n",
            "[1, 3, 14, 10, 8] ----- [29, 14, 16, 8, 31]\n",
            "[4, 2, 19, 1, 3, 5, 5, 11, 2] ----- [26, 3, 24, 4, 12, 17, 28]\n",
            "[8, 4, 9, 10, 3, 2, 3, 1, 16, 1, 7, 7, 2] ----- [25, 34, 5, 3, 5, 9, 19, 15, 3]\n",
            "[4, 9, 8, 3, 1, 21, 1, 16, 1, 7, 15, 1] ----- [26, 10, 31, 5, 36, 9, 19, 7]\n"
          ]
        }
      ]
    },
    {
      "cell_type": "markdown",
      "source": [
        "### Padding"
      ],
      "metadata": {
        "id": "HWLuvTRhZPkh"
      }
    },
    {
      "cell_type": "code",
      "source": [
        "def post_padding(data_in_int_seq, max_seq_len):\n",
        "  return pad_sequences(data_in_int_seq, max_seq_len, padding = \"post\")"
      ],
      "metadata": {
        "id": "4u_YusiyZt_S"
      },
      "execution_count": null,
      "outputs": []
    },
    {
      "cell_type": "code",
      "source": [
        "test_eng_padded = pad_sequences(test_eng_words_in_ids, maxlen = max_encoder_length, padding = 'post')\n",
        "test_mm_padded = pad_sequences(test_mm_words_in_ids, maxlen = max_decoder_length, padding = 'post')"
      ],
      "metadata": {
        "id": "bobhnPxRZFMR"
      },
      "execution_count": null,
      "outputs": []
    },
    {
      "cell_type": "code",
      "source": [
        "for i in range(10):\n",
        "  print(f\"{test_eng_padded[i]} ----- {test_mm_padded[i]}\")"
      ],
      "metadata": {
        "colab": {
          "base_uri": "https://localhost:8080/"
        },
        "id": "-y96F-4SZ_iA",
        "outputId": "e8f7c028-ac0b-417a-a331-b6b246099ccc"
      },
      "execution_count": null,
      "outputs": [
        {
          "output_type": "stream",
          "name": "stdout",
          "text": [
            "[19  1 12 12  1  5  1  0  0  0  0  0  0  0  0  0  0  0  0  0  0  0] ----- [24  4 32 11 17  0  0  0  0  0  0  0  0  0  0  0  0  0  0  0]\n",
            "[13  4  1 16 10  6 13  2  3  5  0  0  0  0  0  0  0  0  0  0  0  0] ----- [ 6  9  8 21  6  3 12  0  0  0  0  0  0  0  0  0  0  0  0  0]\n",
            "[13  1  6 14  1  0  0  0  0  0  0  0  0  0  0  0  0  0  0  0  0  0] ----- [ 6 21 16  0  0  0  0  0  0  0  0  0  0  0  0  0  0  0  0  0]\n",
            "[ 1 13  2  3  2  0  0  0  0  0  0  0  0  0  0  0  0  0  0  0  0  0] ----- [29  6  3  5  3  0  0  0  0  0  0  0  0  0  0  0  0  0  0  0]\n",
            "[21 11 15  2  3  1  0  0  0  0  0  0  0  0  0  0  0  0  0  0  0  0] ----- [36 18  7  3  5  0  0  0  0  0  0  0  0  0  0  0  0  0  0  0]\n",
            "[7 2 8 1 3 1 0 0 0 0 0 0 0 0 0 0 0 0 0 0 0 0] ----- [15  3 20  5  0  0  0  0  0  0  0  0  0  0  0  0  0  0  0  0]\n",
            "[ 1  3 14 10  8  0  0  0  0  0  0  0  0  0  0  0  0  0  0  0  0  0] ----- [29 14 16  8 31  0  0  0  0  0  0  0  0  0  0  0  0  0  0  0]\n",
            "[ 4  2 19  1  3  5  5 11  2  0  0  0  0  0  0  0  0  0  0  0  0  0] ----- [26  3 24  4 12 17 28  0  0  0  0  0  0  0  0  0  0  0  0  0]\n",
            "[ 8  4  9 10  3  2  3  1 16  1  7  7  2  0  0  0  0  0  0  0  0  0] ----- [25 34  5  3  5  9 19 15  3  0  0  0  0  0  0  0  0  0  0  0]\n",
            "[ 4  9  8  3  1 21  1 16  1  7 15  1  0  0  0  0  0  0  0  0  0  0] ----- [26 10 31  5 36  9 19  7  0  0  0  0  0  0  0  0  0  0  0  0]\n"
          ]
        }
      ]
    },
    {
      "cell_type": "code",
      "source": [
        "predictions = predict_list_of_words(test_eng_padded)\n",
        "with open('/content/drive/MyDrive/Meitei_Mayek/predictions.txt', 'w') as file:\n",
        "    for prediction in predictions:\n",
        "        file.write(prediction + '\\n')"
      ],
      "metadata": {
        "colab": {
          "base_uri": "https://localhost:8080/"
        },
        "id": "OWSeMGTdaU5g",
        "outputId": "1a00d6df-7ad6-4a75-92cd-934fef1709e4"
      },
      "execution_count": null,
      "outputs": [
        {
          "output_type": "stream",
          "name": "stdout",
          "text": [
            "[[1.]]\n"
          ]
        },
        {
          "output_type": "stream",
          "name": "stderr",
          "text": [
            " 93%|█████████▎| 4525/4889 [43:22<13:36,  2.24s/it]"
          ]
        }
      ]
    },
    {
      "cell_type": "code",
      "source": [],
      "metadata": {
        "id": "0nwX5-xBaeEj"
      },
      "execution_count": null,
      "outputs": []
    }
  ]
}